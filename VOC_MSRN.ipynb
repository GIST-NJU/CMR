{
 "cells": [
  {
   "cell_type": "code",
   "execution_count": 2,
   "metadata": {},
   "outputs": [],
   "source": [
    "import numpy as np\n",
    "import torch\n",
    "import torch.nn as nn\n",
    "from itertools import permutations\n",
    "import os\n",
    "import argparse\n",
    "import pandas as pd\n",
    "import models.VOC.dataloaders.mrs as mrs"
   ]
  },
  {
   "cell_type": "code",
   "execution_count": 3,
   "metadata": {},
   "outputs": [],
   "source": [
    "# VOC info\n",
    "voc_info = {\n",
    "    \"data_name\": \"voc\",\n",
    "    \"data\": os.path.join(\"data\", \"VOC\"),\n",
    "    \"phase\": \"test\",\n",
    "    \"num_classes\": 20,\n",
    "    \"inp_name\": 'models/VOC/voc_glove_word2vec.pkl',\n",
    "    \"graph_file\": 'models/VOC/voc_adj.pkl'\n",
    "}\n",
    "\n",
    "#test_set = datasets.VOCDetection(root='./data/VOC', year='2007', image_set='test', download=True)\n",
    "#device = torch.device(\"cuda\" if torch.cuda.is_available() else \"cpu\")"
   ]
  },
  {
   "cell_type": "code",
   "execution_count": 4,
   "metadata": {},
   "outputs": [],
   "source": [
    "# load model\n",
    "from models.VOC.dataloaders.default_voc import Voc2007Classification\n",
    "from models.VOC.MSRN.models import MSRN\n",
    "from models.VOC.MSRN.engine import GCNMultiLabelMAPEngine as MSRNEngine\n",
    "from models.VOC.MSRN.util import load_pretrain_model as msrn_load_pretrain_model\n",
    "from models.VOC.MCAR.models import MCAR\n",
    "from models.VOC.MCAR.engine import MCARMultiLabelMAPEngine as MCAREngine\n",
    "\n",
    "msrn_info = {\n",
    "    \"model_name\": \"msrn\",\n",
    "    \"image_size\": 448,\n",
    "    \"batch_size\": 128,\n",
    "    \"threshold\": 0.5,\n",
    "    \"workers\": 4,\n",
    "    \"epochs\": 20,\n",
    "    \"epoch_step\": [30],\n",
    "    \"start_epoch\": 0,\n",
    "    \"lr\": 0.1,\n",
    "    \"momentum\": 0.9,\n",
    "    \"weight_decay\": 1e-4,\n",
    "    \"print_freq\": 0,\n",
    "    \"resume\": \"models/VOC/MSRN/voc_checkpoint.pth.tar\",\n",
    "    \"evaluate\": True,\n",
    "    \"pretrained\": 1,\n",
    "    \"pretrain_model\": \"models/VOC/MSRN/resnet101_for_msrn.pth.tar\",\n",
    "    \"pool_ratio\": 0.2,\n",
    "    \"backbone\": \"resnet101\",\n",
    "    \"criterion\": nn.MultiLabelSoftMarginLoss()\n",
    "}\n",
    "\n",
    "mcar_info = {\n",
    "    \"model_name\": \"mcar\",\n",
    "    \"image_size\": 448,\n",
    "    \"batch_size\": 64,\n",
    "    \"threshold\": 0.6,\n",
    "    \"bm\": \"resnet101\",\n",
    "    \"ps\": \"avg\",\n",
    "    \"topN\": 4,\n",
    "    \"workers\": 4,\n",
    "    \"epochs\": 60,\n",
    "    \"epoch_step\": [30, 50],\n",
    "    \"start_epoch\": 0,\n",
    "    \"lr\": 0.1,\n",
    "    \"lrp\": 0.1,\n",
    "    \"momentum\": 0.9,\n",
    "    \"weight_decay\": 1e-4,\n",
    "    \"print_freq\": 0,\n",
    "    \"resume\": \"models/VOC/MCAR/model_best_94.7850.pth.tar\",\n",
    "    \"evaluate\": True,\n",
    "    \"criterion\": nn.BCELoss()\n",
    "}\n",
    "\n",
    "def load_model(model_name):\n",
    "    if model_name == 'msrn':\n",
    "        args = argparse.Namespace(**voc_info, **msrn_info)\n",
    "        model = MSRN(args.num_classes, args.pool_ratio, args.backbone, args.graph_file)\n",
    "        model = msrn_load_pretrain_model(model, args)\n",
    "    else: # model_name == 'MCAR'\n",
    "        args = argparse.Namespace(**voc_info, **mcar_info)\n",
    "        model = MCAR(args)\n",
    "\n",
    "    args.use_gpu = torch.cuda.is_available()\n",
    "\n",
    "    return model, args\n"
   ]
  },
  {
   "cell_type": "code",
   "execution_count": 5,
   "metadata": {},
   "outputs": [],
   "source": [
    "# get ouputs of source images\n",
    "\n",
    "def test_source(model, args):\n",
    "    source_test_dataset = Voc2007Classification(args.data, phase=args.phase, followup=args.followup, inp_name=args.inp_name)\n",
    "    predictions = test(model, args, source_test_dataset)\n",
    "    if not os.path.exists(args.save_path):\n",
    "        os.makedirs(args.save_path)\n",
    "    predictions.to_csv(os.path.join(args.save_path, args.data_name.upper()+'_'+args.model_name.upper()+'_source.csv'), index=False)\n",
    "\n",
    "def test_followup(model, args):\n",
    "    if not os.path.exists(args.save_path):\n",
    "        os.makedirs(args.save_path)\n",
    "    filename = os.path.join(args.save_path, args.data_name.upper()+'_'+args.model_name.upper()+'_followup.npy')\n",
    "    chunk_size = 50\n",
    "    num = 0\n",
    "    pred_followup = {}\n",
    "    if os.path.exists(filename):\n",
    "        existed = np.load(filename,allow_pickle=True).item()\n",
    "    else:\n",
    "        existed = {}    \n",
    "    for k in range(len(mrs.mrs)): \n",
    "        k = k+1\n",
    "        for p in permutations(range(len(mrs.mrs)), k):\n",
    "            print(p)\n",
    "            if p in existed.keys():\n",
    "                continue\n",
    "            \n",
    "            followup_test_dateset = Voc2007Classification(args.data, phase=args.phase, followup=args.followup, inp_name=args.inp_name, cmr=p)\n",
    "            pred = test(model, args, followup_test_dateset)\n",
    "            pred_followup[p] = pred\n",
    "            \n",
    "            num += 1\n",
    "            if num == chunk_size:\n",
    "                pred_followup.update(existed)\n",
    "                np.save(filename, pred_followup)\n",
    "                existed = pred_followup\n",
    "                num = 0\n",
    "                pred_followup = {}\n",
    "    if len(pred_followup) != 0:\n",
    "        pred_followup.update(existed)\n",
    "        np.save(filename, pred_followup)\n",
    "\n",
    "\n",
    "def test(model, args, test_dataset):    \n",
    "    engines = {\n",
    "        \"msrn\": MSRNEngine,\n",
    "        \"mcar\": MCAREngine,\n",
    "    }\n",
    "    state = {\n",
    "        'batch_size': args.batch_size,\n",
    "        'image_size': args.image_size,\n",
    "        'max_epochs': args.epochs,\n",
    "        'evaluate': True,\n",
    "        'resume': args.resume,\n",
    "        'num_classes': args.num_classes,\n",
    "        'difficult_examples': True,\n",
    "        'workers': args.workers,\n",
    "        'epoch_step': args.epoch_step,\n",
    "        'lr': args.lr\n",
    "    }\n",
    "    if args.model_name == 'mcar':\n",
    "        state.update({\n",
    "            \"use_pb\": True\n",
    "        })\n",
    "    engine = engines[args.model_name](state)\n",
    "    engine.predict(model, args.criterion, test_dataset)\n",
    "    temp_cat = []\n",
    "    cat_id = test_dataset.get_cat2id()\n",
    "    for item in cat_id:\n",
    "        temp_cat.append(item)\n",
    "    _, indec = torch.sort(engine.state['ap_meter'].scores, descending=True)\n",
    "    pb = torch.nn.functional.sigmoid(engine.state['ap_meter'].scores)\n",
    "    result = []\n",
    "    for i in range(len(indec)):\n",
    "        temp = []\n",
    "        temp.append(engine.state['names'][i].split(os.sep)[-1])\n",
    "        for j in range(len(cat_id)):\n",
    "            if pb.numpy()[i][indec.numpy()[i][j]] > args.threshold:\n",
    "                temp.append(temp_cat[indec.numpy()[i][j]])\n",
    "        result.append(temp)\n",
    "    result = pd.DataFrame(result)\n",
    "    result.rename(columns={0: \"img\"}, inplace=True)\n",
    "    return result\n"
   ]
  },
  {
   "cell_type": "code",
   "execution_count": 6,
   "metadata": {},
   "outputs": [
    {
     "name": "stdout",
     "output_type": "stream",
     "text": [
      "----------------------------msrn----------------------------\n",
      "loading pretrained model from imagenet:\n",
      "[dataset] read data/VOC/files/VOC2007/classification_test.csv\n",
      "[dataset] VOC 2007 classification set=test number of classes=20  number of images=4952\n",
      "=> loading checkpoint 'models/VOC/MSRN/voc_checkpoint.pth.tar'\n"
     ]
    },
    {
     "name": "stderr",
     "output_type": "stream",
     "text": [
      "/home/husy/Documents/CMR/models/VOC/MSRN/util.py:161: UserWarning: TypedStorage is deprecated. It will be removed in the future and UntypedStorage will be the only storage class. This should only matter to you if you are using storages directly.  To access UntypedStorage directly, use tensor.untyped_storage() instead of tensor.storage()\n",
      "  self.scores = torch.FloatTensor(torch.FloatStorage())\n"
     ]
    },
    {
     "name": "stdout",
     "output_type": "stream",
     "text": [
      "=> loaded checkpoint 'True' (epoch 20)\n"
     ]
    },
    {
     "name": "stderr",
     "output_type": "stream",
     "text": [
      "Test: 100%|██████████| 39/39 [00:22<00:00,  1.75it/s]\n"
     ]
    },
    {
     "name": "stdout",
     "output_type": "stream",
     "text": [
      "Test: \t Loss 0.7828\t mAP 96.034\n",
      "OP: 0.9025\tOR: 0.9149\tOF1: 0.9087\tCP: 0.8961\tCR: 0.9025\tCF1: 0.8993ce: 1.5553lrap: 0.9760lrl: 0.0047\n",
      "OP_3: 0.8667\tOR_3: 0.9348\tOF1_3: 0.8995\tCP_3: 0.8642\tCR_3: 0.9253\tCF1_3: 0.8937ce_3: 3.1428lrap_3: 0.8790lrl_3: 0.0581\n"
     ]
    }
   ],
   "source": [
    "import os\n",
    "os.environ[\"CUDA_VISIBLE_DEVICES\"] = \"0\"\n",
    "\n",
    "model_names = ['msrn']\n",
    "for model_name in model_names:\n",
    "    print(f'----------------------------{model_name}----------------------------')\n",
    "    model, args = load_model(model_name)\n",
    "    args.save_path = 'predictions/VOC/'\n",
    "    \n",
    "    args.followup = False\n",
    "    test_source(model, args)\n",
    "   \n",
    "    # args.followup = True\n",
    "    # test_followup(model, args)"
   ]
  },
  {
   "cell_type": "code",
   "execution_count": 20,
   "metadata": {},
   "outputs": [
    {
     "name": "stdout",
     "output_type": "stream",
     "text": [
      "10\n",
      "dict_keys([(0, 2), (0, 3), (6,), (0, 1), (4,), (5,), (2,), (3,), (0,), (1,)])\n"
     ]
    }
   ],
   "source": [
    "filename = 'predictions/VOC/VOC_MSRN_followup.npy'\n",
    "existed = np.load(filename,allow_pickle=True).item()\n",
    "print(len(existed))\n",
    "#print(existed.keys())"
   ]
  },
  {
   "cell_type": "code",
   "execution_count": 14,
   "metadata": {},
   "outputs": [],
   "source": [
    "import os\n",
    "\n",
    "# 指定文件夹路径\n",
    "folder_path = 'data/VOC/VOCdevkit/VOC2007/ImageSets/Main/'\n",
    "\n",
    "# 遍历文件夹下的所有文件\n",
    "for filename in os.listdir(folder_path):\n",
    "    # 构建原文件的完整路径\n",
    "    old_filepath = os.path.join(folder_path, filename)\n",
    "    \n",
    "    # 检查是否是文件\n",
    "    if os.path.isfile(old_filepath):\n",
    "        # 构建新文件名，向原文件名后面添加 \"2\"\n",
    "        if 'tvmonitor' in filename:\n",
    "\n",
    "            new_filename = filename.replace('tvmonitor', 'tv')\n",
    "        \n",
    "            # 构建新文件的完整路径\n",
    "            new_filepath = os.path.join(folder_path, new_filename)\n",
    "            \n",
    "            # 重命名文件\n",
    "            os.rename(old_filepath, new_filepath)"
   ]
  },
  {
   "cell_type": "code",
   "execution_count": null,
   "metadata": {},
   "outputs": [],
   "source": []
  }
 ],
 "metadata": {
  "kernelspec": {
   "display_name": "cmr",
   "language": "python",
   "name": "python3"
  },
  "language_info": {
   "codemirror_mode": {
    "name": "ipython",
    "version": 3
   },
   "file_extension": ".py",
   "mimetype": "text/x-python",
   "name": "python",
   "nbconvert_exporter": "python",
   "pygments_lexer": "ipython3",
   "version": "3.8.18"
  }
 },
 "nbformat": 4,
 "nbformat_minor": 2
}
