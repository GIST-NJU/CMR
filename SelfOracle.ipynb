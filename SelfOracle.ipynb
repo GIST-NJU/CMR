{
 "cells": [
  {
   "cell_type": "code",
   "execution_count": 2,
   "metadata": {},
   "outputs": [
    {
     "name": "stdout",
     "output_type": "stream",
     "text": [
      "['rotate', 'enh_bri', 'enh_sha', 'enh_con', 'gaussian', 'shear', 'translate']\n"
     ]
    }
   ],
   "source": [
    "import numpy as np\n",
    "import cv2 as cv\n",
    "from PIL import Image, ImageEnhance\n",
    "import torch\n",
    "import torch.nn as nn\n",
    "from torch.utils.data import Dataset\n",
    "import torch.optim as optim\n",
    "from torch.utils.data import DataLoader\n",
    "from torchvision import datasets, transforms,models\n",
    "import matplotlib .pyplot as plt\n",
    "from itertools import permutations\n",
    "import os\n",
    "import random\n",
    "\n",
    "def rotate(x, degree):\n",
    "    # Rotate the image by degrees counter clockwise\n",
    "    return x.rotate(degree)\n",
    "\n",
    "def enh_bri(x, brightness):\n",
    "    bri = ImageEnhance.Brightness(x)\n",
    "    return bri.enhance(brightness)\n",
    "\n",
    "def enh_con(x, contrast):\n",
    "    con = ImageEnhance.Contrast(x)\n",
    "    return con.enhance(contrast)\n",
    "\n",
    "def enh_sha(x, sharpness):\n",
    "    sha = ImageEnhance.Sharpness(x)\n",
    "    return sha.enhance(sharpness)\n",
    "\n",
    "def gaussian(x, kernel_size):\n",
    "    x = np.array(x)\n",
    "    x = cv.GaussianBlur(x, kernel_size, sigmaX=0)\n",
    "    return Image.fromarray(x)\n",
    "\n",
    "def shear(x, shear_factor):\n",
    "    # 定义错切变换矩阵\n",
    "    shear_matrix = [1, shear_factor, 0, 0, 1, 0]\n",
    "\n",
    "    # 创建Affine对象并应用错切变换\n",
    "    sheared_img = x.transform(\n",
    "        x.size, Image.Transform.AFFINE, shear_matrix\n",
    "    )\n",
    "    return sheared_img\n",
    "\n",
    "def translate(x, shift):\n",
    "    shift_x, shift_y = shift[0], shift[1]\n",
    "    # 进行平移操作\n",
    "    translated_img = x.transform(\n",
    "        x.size, Image.Transform.AFFINE, (1, 0, shift_x, 0, 1, shift_y)\n",
    "    )\n",
    "    return translated_img\n",
    "\n",
    "mrs = [rotate, enh_bri, enh_sha, enh_con, gaussian, shear, translate]\n",
    "mrs_name =[mr.__name__ for mr in mrs]\n",
    "print(mrs_name)\n",
    "paras = [3, 0.8, 0.8, 0.8, (3, 3), 0.1, (1,1)]"
   ]
  },
  {
   "cell_type": "code",
   "execution_count": 3,
   "metadata": {},
   "outputs": [
    {
     "data": {
      "image/png": "[encoded data removed]",
      "text/plain": [
       "<Figure size 640x480 with 1 Axes>"
      ]
     },
     "metadata": {},
     "output_type": "display_data"
    },
    {
     "name": "stdout",
     "output_type": "stream",
     "text": [
      "------------------------------------------------\n",
      "<class 'PIL.Image.Image'> <class 'PIL.Image.Image'>\n",
      "rotate\n",
      "PSNR 37.05662710743348\n",
      "SSIM (0.9979528687491905, 0.9982398929373055)\n",
      "CW-SSIM 0.9971323984036068\n",
      "MS-SSIM (0.9998655644809136+0j)\n",
      "uqi 0.9976049306282236\n",
      "<class 'PIL.Image.Image'> <class 'PIL.Image.Image'>\n",
      "enh_bri\n",
      "PSNR 22.941603830274268\n",
      "SSIM (0.9518856087577667, 0.975597792377611)\n",
      "CW-SSIM 0.9751284130493304\n",
      "MS-SSIM (0.978534281930288+0j)\n",
      "uqi 0.9563077977613762\n",
      "<class 'PIL.Image.Image'> <class 'PIL.Image.Image'>\n",
      "enh_sha\n",
      "PSNR 37.59374890411245\n",
      "SSIM (0.998616446243357, 0.9987669763743912)\n",
      "CW-SSIM 0.9907330157741433\n",
      "MS-SSIM (0.9997553657185354+0j)\n",
      "uqi 0.9318588510643403\n",
      "<class 'PIL.Image.Image'> <class 'PIL.Image.Image'>\n",
      "enh_con\n",
      "PSNR 23.729828867152488\n",
      "SSIM (0.9475764014926361, 0.975689480145648)\n",
      "CW-SSIM 0.8727166564162437\n",
      "MS-SSIM (0.9784752352859211+0j)\n",
      "uqi 0.8076359124291994\n",
      "<class 'PIL.Image.Image'> <class 'PIL.Image.Image'>\n",
      "gaussian\n",
      "PSNR 22.420909191044124\n",
      "SSIM (0.9504397986800364, 0.9544877610543111)\n",
      "CW-SSIM 0.9130047260905987\n",
      "MS-SSIM (0.9915786572823786+0j)\n",
      "uqi 0.8737000992904614\n",
      "<class 'PIL.Image.Image'> <class 'PIL.Image.Image'>\n",
      "shear\n",
      "PSNR 12.81685195659618\n",
      "SSIM (0.595212149249268, 0.6529365779160357)\n",
      "CW-SSIM 0.9143834701376093\n",
      "MS-SSIM (0.8705638399655791+0j)\n",
      "uqi 0.6032244423740311\n",
      "<class 'PIL.Image.Image'> <class 'PIL.Image.Image'>\n",
      "translate\n",
      "PSNR 13.013350824858794\n",
      "SSIM (0.6324044510717408, 0.6839868691459108)\n",
      "CW-SSIM 0.6217027008635942\n",
      "MS-SSIM (0.8720796457964721+0j)\n",
      "uqi 0.6351590858212274\n"
     ]
    }
   ],
   "source": [
    "\n",
    "import ssim.ssimlib as pyssim\n",
    "from sewar.full_ref import mse, rmse, psnr, uqi, ssim, ergas, scc, rase, sam, msssim, vifp\n",
    "\n",
    "train_dataset = datasets.MNIST(root='./data', train=True, download=True)\n",
    "x = train_dataset[10][0]\n",
    "plt.imshow(x)\n",
    "plt.show()\n",
    "print('------------------------------------------------')\n",
    "for i in range(len(mrs)):\n",
    "    x = train_dataset[10][0]\n",
    "    x_f = mrs[i](x, paras[i])\n",
    "    print(type(x), type(x_f))\n",
    "    print(mrs_name[i])\n",
    "    print('PSNR', cv.PSNR(np.array(x), np.array(x_f)))\n",
    "    print('SSIM', ssim(np.array(x), np.array(x_f)))\n",
    "    print('CW-SSIM', pyssim.SSIM(x).cw_ssim_value(x_f))\n",
    "    print('MS-SSIM', msssim(np.array(x), np.array(x_f)))\n",
    "    print('uqi', uqi(np.array(x), np.array(x_f)))\n",
    "    #plt.imshow(x_f)\n",
    "    #plt.show()"
   ]
  },
  {
   "cell_type": "code",
   "execution_count": null,
   "metadata": {},
   "outputs": [],
   "source": [
    "test_dataset = datasets.MNIST(root='./data', train=False, download=True)\n",
    "\n",
    "\n",
    "result_msssim ={}\n",
    "for i in range(len(mrs)):\n",
    "    for cmr in permutations(range(len(mrs)),i+1):\n",
    "        result_msssim[cmr] = []\n",
    "\n",
    "\n",
    "for k in range(len(mrs)):\n",
    "    for cmr in permutations(range(len(mrs)), k+1):\n",
    "        followup_test_dataset = CustomDataset(test_dataset, cmr)\n",
    "        valid_num = 0\n",
    "        for i in range(len(test_dataset)):\n",
    "            x = test_dataset[i][0]\n",
    "            x_f = followup_test_dataset[i][0]\n",
    "            result_msssim[cmr].append(msssim(np.array(x), np.array(x_f)))\n",
    "        print(cmr)"
   ]
  },
  {
   "cell_type": "code",
   "execution_count": 9,
   "metadata": {},
   "outputs": [
    {
     "name": "stdout",
     "output_type": "stream",
     "text": [
      "1\n",
      "2\n",
      "3\n",
      "4\n",
      "5\n"
     ]
    }
   ],
   "source": [
    "### Test 2 images\n",
    "\n",
    "test_dataset = datasets.MNIST(root='./data', train=False, download=True)\n",
    "\n",
    "\n",
    "result_msssim ={}\n",
    "for i in range(len(mrs)):\n",
    "    for cmr in permutations(range(len(mrs)),i+1):\n",
    "        result_msssim[cmr] = []\n",
    "\n",
    "\n",
    "for k in range(len(mrs)):\n",
    "    for cmr in permutations(range(len(mrs)), k+1):\n",
    "        followup_test_dataset = CustomDataset(test_dataset, cmr)\n",
    "        valid_num = 0\n",
    "        for i in range(2):\n",
    "            x = test_dataset[i][0]\n",
    "            x_f = followup_test_dataset[i][0]\n",
    "            result_msssim[cmr].append(msssim(np.array(x), np.array(x_f)))\n",
    "        #print(cmr)\n",
    "    print(k+1)"
   ]
  },
  {
   "cell_type": "code",
   "execution_count": 5,
   "metadata": {},
   "outputs": [],
   "source": [
    "class CustomDataset(Dataset):\n",
    "    def __init__(self, dataset, cmr=None, transform=None):\n",
    "        self.transform = transform\n",
    "        self.data = []\n",
    "        self.labels = []\n",
    "        for idx, (img, label) in enumerate(dataset):\n",
    "            if cmr is not None:\n",
    "                for index in cmr:\n",
    "                    img = mrs[index](img, paras[index])\n",
    "            self.data.append(img)\n",
    "            self.labels.append(label)\n",
    "            \n",
    "    def __len__(self):\n",
    "        return len(self.data)\n",
    "\n",
    "    def __getitem__(self, idx):\n",
    "        data, label = self.data[idx], self.labels[idx]\n",
    "        if self.transform is not None:\n",
    "            data = self.transform(data)\n",
    "        return data, label\n"
   ]
  },
  {
   "cell_type": "code",
   "execution_count": 2,
   "metadata": {},
   "outputs": [],
   "source": [
    "# 定义变分自编码器（VAE）模型\n",
    "class VAE(nn.Module):\n",
    "    def __init__(self, input_size, hidden_size, latent_size):\n",
    "        super(VAE, self).__init__()\n",
    "\n",
    "        # 编码器\n",
    "        self.encoder = nn.Sequential(\n",
    "            nn.Linear(input_size, hidden_size),\n",
    "            nn.ReLU(),\n",
    "            nn.Linear(hidden_size, hidden_size//2),\n",
    "            nn.ReLU(),\n",
    "            nn.Linear(hidden_size//2, latent_size * 2)  # 输出均值和方差\n",
    "        )\n",
    "\n",
    "        # 解码器\n",
    "        self.decoder = nn.Sequential(\n",
    "            nn.Linear(latent_size, hidden_size//2),\n",
    "            nn.ReLU(),\n",
    "            nn.Linear(hidden_size//2, hidden_size),\n",
    "            nn.ReLU(),\n",
    "            nn.Linear(hidden_size, input_size),\n",
    "            nn.Sigmoid()  # 输出值范围在 [0, 1] 之间（因为MNIST像素值在 [0, 1]）\n",
    "        )\n",
    "\n",
    "    def reparameterize(self, mu, logvar):\n",
    "        std = torch.exp(0.5 * logvar)\n",
    "        eps = torch.randn_like(std)\n",
    "        return mu + eps * std\n",
    "\n",
    "    def forward(self, x):\n",
    "        # 编码\n",
    "        latent_params = self.encoder(x)\n",
    "        mu, logvar = latent_params[:, :latent_size], latent_params[:, latent_size:]\n",
    "        z = self.reparameterize(mu, logvar)\n",
    "\n",
    "        # 解码\n",
    "        reconstructed = self.decoder(z)\n",
    "        return reconstructed, mu, logvar\n",
    "\n",
    "# 设定超参数和数据加载器\n",
    "batch_size = 64\n",
    "input_size = 28 * 28  # MNIST图像大小为28x28\n",
    "hidden_size = 256\n",
    "latent_size = 64\n",
    "lr = 1e-3\n",
    "epochs = 10\n",
    "\n",
    "transform = transforms.Compose([transforms.ToTensor()])\n",
    "train_set = datasets.MNIST('data', train=True, download=True, transform=transform)\n",
    "test_set = datasets.MNIST('data', train=False, download=True, transform=transform)\n",
    "train_loader = DataLoader(train_set, batch_size=batch_size, shuffle=True)\n",
    "test_loader = DataLoader(test_set, batch_size=batch_size, shuffle=False)\n",
    "\n",
    "# 创建VAE模型\n",
    "device = torch.device(\"cuda\" if torch.cuda.is_available() else \"cpu\")\n",
    "model = VAE(input_size, hidden_size, latent_size).to(device)\n",
    "optimizer = optim.Adam(model.parameters(), lr=lr)\n",
    "criterion = nn.MSELoss(reduction='sum')\n"
   ]
  },
  {
   "cell_type": "code",
   "execution_count": 3,
   "metadata": {},
   "outputs": [
    {
     "name": "stdout",
     "output_type": "stream",
     "text": [
      "Epoch 1/10, Loss: 49.08018544718424\n",
      "Epoch 2/10, Loss: 37.9534951558431\n",
      "Epoch 3/10, Loss: 34.01207551676432\n",
      "Epoch 4/10, Loss: 32.69792815958659\n",
      "Epoch 5/10, Loss: 31.928122278849283\n",
      "Epoch 6/10, Loss: 31.301065319824218\n",
      "Epoch 7/10, Loss: 30.775826279703775\n",
      "Epoch 8/10, Loss: 30.455070864868166\n",
      "Epoch 9/10, Loss: 30.15740827636719\n",
      "Epoch 10/10, Loss: 29.918731955973307\n",
      "Test set loss: 20.0118\n"
     ]
    }
   ],
   "source": [
    "# 训练VAE模型\n",
    "model.train()\n",
    "for epoch in range(epochs):\n",
    "    running_loss = 0.0\n",
    "    for batch_idx, (data, _) in enumerate(train_loader):\n",
    "        data = data.view(-1, input_size).to(device)\n",
    "        optimizer.zero_grad()\n",
    "        recon_batch, mu, logvar = model(data)\n",
    "        BCE = criterion(recon_batch, data)\n",
    "        KLD = -0.5 * torch.sum(1 + logvar - mu.pow(2) - logvar.exp())\n",
    "        loss = BCE + KLD\n",
    "        loss.backward()\n",
    "        running_loss += loss.item()\n",
    "        optimizer.step()\n",
    "        \n",
    "    print(f\"Epoch {epoch+1}/{epochs}, Loss: {running_loss / len(train_loader.dataset)}\")\n",
    "\n",
    "# 评估模型\n",
    "model.eval()\n",
    "test_loss = 0.0\n",
    "with torch.no_grad():\n",
    "    for i, (data, _) in enumerate(test_loader):\n",
    "        data = data.view(-1, input_size).to(device)\n",
    "        recon_batch, mu, logvar = model(data)\n",
    "        test_loss += criterion(recon_batch, data).item()\n",
    "\n",
    "test_loss /= len(test_loader.dataset)\n",
    "print(f\"Test set loss: {test_loss:.4f}\")"
   ]
  },
  {
   "cell_type": "code",
   "execution_count": 4,
   "metadata": {},
   "outputs": [
    {
     "name": "stdout",
     "output_type": "stream",
     "text": [
      "<class 'PIL.Image.Image'>\n"
     ]
    },
    {
     "data": {
      "image/png": "[encoded data removed]",
      "text/plain": [
       "<Figure size 640x480 with 1 Axes>"
      ]
     },
     "metadata": {},
     "output_type": "display_data"
    }
   ],
   "source": [
    "import matplotlib.pyplot as plt\n",
    "\n",
    "train_dataset = datasets.MNIST(root='./data', train=True, download=True)\n",
    "x = train_dataset[0][0]\n",
    "plt.imshow(x)\n",
    "print(type(x))\n"
   ]
  },
  {
   "cell_type": "code",
   "execution_count": 11,
   "metadata": {},
   "outputs": [
    {
     "name": "stdout",
     "output_type": "stream",
     "text": [
      "torch.Size([1, 28, 28])\n",
      "torch.Size([1, 784])\n"
     ]
    },
    {
     "data": {
      "text/plain": [
       "<matplotlib.image.AxesImage at 0x7fa1d93aeca0>"
      ]
     },
     "execution_count": 11,
     "metadata": {},
     "output_type": "execute_result"
    },
    {
     "data": {
      "image/png": "[encoded data removed]",
      "text/plain": [
       "<Figure size 640x480 with 1 Axes>"
      ]
     },
     "metadata": {},
     "output_type": "display_data"
    }
   ],
   "source": [
    "x = train_dataset[0][0]\n",
    "x = transform(x)\n",
    "print(x.shape)\n",
    "x_r = x.view(-1, input_size)\n",
    "print(x_r.shape)\n",
    "x_r = model(x_r.to(device))\n",
    "t = x_r[0].cpu()\n",
    "t = t.view(28,28)\n",
    "plt.imshow(t.detach().numpy())"
   ]
  },
  {
   "cell_type": "code",
   "execution_count": 8,
   "metadata": {},
   "outputs": [
    {
     "name": "stdout",
     "output_type": "stream",
     "text": [
      "24\n",
      "5\n"
     ]
    }
   ],
   "source": [
    "import numpy as np\n",
    "from scipy.stats import gamma\n",
    "\n",
    "#将训练集的误差存起来\n",
    "error_training = np.zeros(len(train_set))\n",
    "train_loader = DataLoader(train_set, batch_size=1, shuffle=False)\n",
    "model.to(device)\n",
    "model.eval()\n",
    "with torch.no_grad():\n",
    "    for i, (data, _) in enumerate(train_loader):\n",
    "        data = data.view(-1, input_size).to(device)\n",
    "        recon_batch, _, _ = model(data)\n",
    "        error_training[i] = criterion(recon_batch, data).item()\n",
    "\n",
    "\n",
    "#拟合一个分布\n",
    "shape, loc, scale = gamma.fit(error_training, floc=0)\n",
    "false_alarm = 0.001\n",
    "\n",
    "#求出上百分之一分位数\n",
    "threshold = gamma.ppf(1-false_alarm, shape, loc, scale)\n",
    "\n",
    "#将测试集放进去，看看是不是全部通过\n",
    "error_testing = np.zeros(len(test_set))\n",
    "test_loader = DataLoader(test_set, batch_size=1, shuffle=False)\n",
    "with torch.no_grad():\n",
    "    for i, (data, _) in enumerate(test_loader):\n",
    "        data = data.view(-1, input_size).to(device)\n",
    "        recon_batch, _, _ = model(data)\n",
    "        error_testing[i] = criterion(recon_batch, data).item()\n",
    "\n",
    "print(np.where(error_training>threshold)[0].size)\n",
    "print(np.where(error_testing>threshold)[0].size)\n",
    "\n"
   ]
  },
  {
   "cell_type": "code",
   "execution_count": 15,
   "metadata": {},
   "outputs": [
    {
     "name": "stdout",
     "output_type": "stream",
     "text": [
      "64.77249883389156\n"
     ]
    },
    {
     "name": "stderr",
     "output_type": "stream",
     "text": [
      "/home/husy/anaconda3/envs/cmr/lib/python3.8/site-packages/torch/nn/modules/loss.py:536: UserWarning: Using a target size (torch.Size([28, 28])) that is different to the input size (torch.Size([1, 784])). This will likely lead to incorrect results due to broadcasting. Please ensure they have the same size.\n",
      "  return F.mse_loss(input, target, reduction=self.reduction)\n"
     ]
    },
    {
     "ename": "RuntimeError",
     "evalue": "The size of tensor a (784) must match the size of tensor b (28) at non-singleton dimension 1",
     "output_type": "error",
     "traceback": [
      "\u001b[0;31m---------------------------------------------------------------------------\u001b[0m",
      "\u001b[0;31mRuntimeError\u001b[0m                              Traceback (most recent call last)",
      "Cell \u001b[0;32mIn[15], line 5\u001b[0m\n\u001b[1;32m      3\u001b[0m image_black \u001b[38;5;241m=\u001b[39m torch\u001b[38;5;241m.\u001b[39mzeros(\u001b[38;5;241m28\u001b[39m,\u001b[38;5;241m28\u001b[39m)\u001b[38;5;241m.\u001b[39mto(device)\n\u001b[1;32m      4\u001b[0m recon_batch, _, _ \u001b[38;5;241m=\u001b[39m model(image_black\u001b[38;5;241m.\u001b[39mview(\u001b[38;5;241m-\u001b[39m\u001b[38;5;241m1\u001b[39m, input_size))\n\u001b[0;32m----> 5\u001b[0m error \u001b[38;5;241m=\u001b[39m \u001b[43mcriterion\u001b[49m\u001b[43m(\u001b[49m\u001b[43mrecon_batch\u001b[49m\u001b[43m,\u001b[49m\u001b[43m \u001b[49m\u001b[43mimage_black\u001b[49m\u001b[43m)\u001b[49m\u001b[38;5;241m.\u001b[39mitem()\n",
      "File \u001b[0;32m~/anaconda3/envs/cmr/lib/python3.8/site-packages/torch/nn/modules/module.py:1501\u001b[0m, in \u001b[0;36mModule._call_impl\u001b[0;34m(self, *args, **kwargs)\u001b[0m\n\u001b[1;32m   1496\u001b[0m \u001b[38;5;66;03m# If we don't have any hooks, we want to skip the rest of the logic in\u001b[39;00m\n\u001b[1;32m   1497\u001b[0m \u001b[38;5;66;03m# this function, and just call forward.\u001b[39;00m\n\u001b[1;32m   1498\u001b[0m \u001b[38;5;28;01mif\u001b[39;00m \u001b[38;5;129;01mnot\u001b[39;00m (\u001b[38;5;28mself\u001b[39m\u001b[38;5;241m.\u001b[39m_backward_hooks \u001b[38;5;129;01mor\u001b[39;00m \u001b[38;5;28mself\u001b[39m\u001b[38;5;241m.\u001b[39m_backward_pre_hooks \u001b[38;5;129;01mor\u001b[39;00m \u001b[38;5;28mself\u001b[39m\u001b[38;5;241m.\u001b[39m_forward_hooks \u001b[38;5;129;01mor\u001b[39;00m \u001b[38;5;28mself\u001b[39m\u001b[38;5;241m.\u001b[39m_forward_pre_hooks\n\u001b[1;32m   1499\u001b[0m         \u001b[38;5;129;01mor\u001b[39;00m _global_backward_pre_hooks \u001b[38;5;129;01mor\u001b[39;00m _global_backward_hooks\n\u001b[1;32m   1500\u001b[0m         \u001b[38;5;129;01mor\u001b[39;00m _global_forward_hooks \u001b[38;5;129;01mor\u001b[39;00m _global_forward_pre_hooks):\n\u001b[0;32m-> 1501\u001b[0m     \u001b[38;5;28;01mreturn\u001b[39;00m \u001b[43mforward_call\u001b[49m\u001b[43m(\u001b[49m\u001b[38;5;241;43m*\u001b[39;49m\u001b[43margs\u001b[49m\u001b[43m,\u001b[49m\u001b[43m \u001b[49m\u001b[38;5;241;43m*\u001b[39;49m\u001b[38;5;241;43m*\u001b[39;49m\u001b[43mkwargs\u001b[49m\u001b[43m)\u001b[49m\n\u001b[1;32m   1502\u001b[0m \u001b[38;5;66;03m# Do not call functions when jit is used\u001b[39;00m\n\u001b[1;32m   1503\u001b[0m full_backward_hooks, non_full_backward_hooks \u001b[38;5;241m=\u001b[39m [], []\n",
      "File \u001b[0;32m~/anaconda3/envs/cmr/lib/python3.8/site-packages/torch/nn/modules/loss.py:536\u001b[0m, in \u001b[0;36mMSELoss.forward\u001b[0;34m(self, input, target)\u001b[0m\n\u001b[1;32m    535\u001b[0m \u001b[38;5;28;01mdef\u001b[39;00m \u001b[38;5;21mforward\u001b[39m(\u001b[38;5;28mself\u001b[39m, \u001b[38;5;28minput\u001b[39m: Tensor, target: Tensor) \u001b[38;5;241m-\u001b[39m\u001b[38;5;241m>\u001b[39m Tensor:\n\u001b[0;32m--> 536\u001b[0m     \u001b[38;5;28;01mreturn\u001b[39;00m \u001b[43mF\u001b[49m\u001b[38;5;241;43m.\u001b[39;49m\u001b[43mmse_loss\u001b[49m\u001b[43m(\u001b[49m\u001b[38;5;28;43minput\u001b[39;49m\u001b[43m,\u001b[49m\u001b[43m \u001b[49m\u001b[43mtarget\u001b[49m\u001b[43m,\u001b[49m\u001b[43m \u001b[49m\u001b[43mreduction\u001b[49m\u001b[38;5;241;43m=\u001b[39;49m\u001b[38;5;28;43mself\u001b[39;49m\u001b[38;5;241;43m.\u001b[39;49m\u001b[43mreduction\u001b[49m\u001b[43m)\u001b[49m\n",
      "File \u001b[0;32m~/anaconda3/envs/cmr/lib/python3.8/site-packages/torch/nn/functional.py:3294\u001b[0m, in \u001b[0;36mmse_loss\u001b[0;34m(input, target, size_average, reduce, reduction)\u001b[0m\n\u001b[1;32m   3291\u001b[0m \u001b[38;5;28;01mif\u001b[39;00m size_average \u001b[38;5;129;01mis\u001b[39;00m \u001b[38;5;129;01mnot\u001b[39;00m \u001b[38;5;28;01mNone\u001b[39;00m \u001b[38;5;129;01mor\u001b[39;00m reduce \u001b[38;5;129;01mis\u001b[39;00m \u001b[38;5;129;01mnot\u001b[39;00m \u001b[38;5;28;01mNone\u001b[39;00m:\n\u001b[1;32m   3292\u001b[0m     reduction \u001b[38;5;241m=\u001b[39m _Reduction\u001b[38;5;241m.\u001b[39mlegacy_get_string(size_average, reduce)\n\u001b[0;32m-> 3294\u001b[0m expanded_input, expanded_target \u001b[38;5;241m=\u001b[39m \u001b[43mtorch\u001b[49m\u001b[38;5;241;43m.\u001b[39;49m\u001b[43mbroadcast_tensors\u001b[49m\u001b[43m(\u001b[49m\u001b[38;5;28;43minput\u001b[39;49m\u001b[43m,\u001b[49m\u001b[43m \u001b[49m\u001b[43mtarget\u001b[49m\u001b[43m)\u001b[49m\n\u001b[1;32m   3295\u001b[0m \u001b[38;5;28;01mreturn\u001b[39;00m torch\u001b[38;5;241m.\u001b[39m_C\u001b[38;5;241m.\u001b[39m_nn\u001b[38;5;241m.\u001b[39mmse_loss(expanded_input, expanded_target, _Reduction\u001b[38;5;241m.\u001b[39mget_enum(reduction))\n",
      "File \u001b[0;32m~/anaconda3/envs/cmr/lib/python3.8/site-packages/torch/functional.py:74\u001b[0m, in \u001b[0;36mbroadcast_tensors\u001b[0;34m(*tensors)\u001b[0m\n\u001b[1;32m     72\u001b[0m \u001b[38;5;28;01mif\u001b[39;00m has_torch_function(tensors):\n\u001b[1;32m     73\u001b[0m     \u001b[38;5;28;01mreturn\u001b[39;00m handle_torch_function(broadcast_tensors, tensors, \u001b[38;5;241m*\u001b[39mtensors)\n\u001b[0;32m---> 74\u001b[0m \u001b[38;5;28;01mreturn\u001b[39;00m \u001b[43m_VF\u001b[49m\u001b[38;5;241;43m.\u001b[39;49m\u001b[43mbroadcast_tensors\u001b[49m\u001b[43m(\u001b[49m\u001b[43mtensors\u001b[49m\u001b[43m)\u001b[49m\n",
      "\u001b[0;31mRuntimeError\u001b[0m: The size of tensor a (784) must match the size of tensor b (28) at non-singleton dimension 1"
     ]
    }
   ],
   "source": [
    "print(threshold)\n",
    "input_size = 28*28\n",
    "image_black = torch.zeros(28,28).to(device)\n",
    "recon_batch, _, _ = model(image_black.view(-1, input_size))\n",
    "error = criterion(recon_batch, image_black).item()"
   ]
  },
  {
   "cell_type": "code",
   "execution_count": 18,
   "metadata": {},
   "outputs": [
    {
     "name": "stdout",
     "output_type": "stream",
     "text": [
      "(0, 1, 2, 3, 4)\n",
      "0.0\n",
      "(0, 1, 2, 3, 5)\n"
     ]
    },
    {
     "ename": "KeyboardInterrupt",
     "evalue": "",
     "output_type": "error",
     "traceback": [
      "\u001b[0;31m---------------------------------------------------------------------------\u001b[0m",
      "\u001b[0;31mKeyboardInterrupt\u001b[0m                         Traceback (most recent call last)",
      "Cell \u001b[0;32mIn[18], line 32\u001b[0m\n\u001b[1;32m     30\u001b[0m testload_followup \u001b[38;5;241m=\u001b[39m torch\u001b[38;5;241m.\u001b[39mutils\u001b[38;5;241m.\u001b[39mdata\u001b[38;5;241m.\u001b[39mDataLoader(dateset_followup, batch_size\u001b[38;5;241m=\u001b[39m\u001b[38;5;241m1\u001b[39m, shuffle\u001b[38;5;241m=\u001b[39m\u001b[38;5;28;01mFalse\u001b[39;00m)\n\u001b[1;32m     31\u001b[0m \u001b[38;5;28;01mwith\u001b[39;00m torch\u001b[38;5;241m.\u001b[39mno_grad():\n\u001b[0;32m---> 32\u001b[0m     \u001b[38;5;28;01mfor\u001b[39;00m i,(X,y) \u001b[38;5;129;01min\u001b[39;00m \u001b[38;5;28menumerate\u001b[39m(testload_followup):\n\u001b[1;32m     33\u001b[0m         X \u001b[38;5;241m=\u001b[39m X\u001b[38;5;241m.\u001b[39mview(\u001b[38;5;241m-\u001b[39m\u001b[38;5;241m1\u001b[39m, input_size)\u001b[38;5;241m.\u001b[39mto(device)\n\u001b[1;32m     34\u001b[0m         recon_batch, _, _ \u001b[38;5;241m=\u001b[39m model(X)\n",
      "File \u001b[0;32m~/anaconda3/envs/cmr/lib/python3.8/site-packages/torch/utils/data/dataloader.py:633\u001b[0m, in \u001b[0;36m_BaseDataLoaderIter.__next__\u001b[0;34m(self)\u001b[0m\n\u001b[1;32m    630\u001b[0m \u001b[38;5;28;01mif\u001b[39;00m \u001b[38;5;28mself\u001b[39m\u001b[38;5;241m.\u001b[39m_sampler_iter \u001b[38;5;129;01mis\u001b[39;00m \u001b[38;5;28;01mNone\u001b[39;00m:\n\u001b[1;32m    631\u001b[0m     \u001b[38;5;66;03m# TODO(https://github.com/pytorch/pytorch/issues/76750)\u001b[39;00m\n\u001b[1;32m    632\u001b[0m     \u001b[38;5;28mself\u001b[39m\u001b[38;5;241m.\u001b[39m_reset()  \u001b[38;5;66;03m# type: ignore[call-arg]\u001b[39;00m\n\u001b[0;32m--> 633\u001b[0m data \u001b[38;5;241m=\u001b[39m \u001b[38;5;28;43mself\u001b[39;49m\u001b[38;5;241;43m.\u001b[39;49m\u001b[43m_next_data\u001b[49m\u001b[43m(\u001b[49m\u001b[43m)\u001b[49m\n\u001b[1;32m    634\u001b[0m \u001b[38;5;28mself\u001b[39m\u001b[38;5;241m.\u001b[39m_num_yielded \u001b[38;5;241m+\u001b[39m\u001b[38;5;241m=\u001b[39m \u001b[38;5;241m1\u001b[39m\n\u001b[1;32m    635\u001b[0m \u001b[38;5;28;01mif\u001b[39;00m \u001b[38;5;28mself\u001b[39m\u001b[38;5;241m.\u001b[39m_dataset_kind \u001b[38;5;241m==\u001b[39m _DatasetKind\u001b[38;5;241m.\u001b[39mIterable \u001b[38;5;129;01mand\u001b[39;00m \\\n\u001b[1;32m    636\u001b[0m         \u001b[38;5;28mself\u001b[39m\u001b[38;5;241m.\u001b[39m_IterableDataset_len_called \u001b[38;5;129;01mis\u001b[39;00m \u001b[38;5;129;01mnot\u001b[39;00m \u001b[38;5;28;01mNone\u001b[39;00m \u001b[38;5;129;01mand\u001b[39;00m \\\n\u001b[1;32m    637\u001b[0m         \u001b[38;5;28mself\u001b[39m\u001b[38;5;241m.\u001b[39m_num_yielded \u001b[38;5;241m>\u001b[39m \u001b[38;5;28mself\u001b[39m\u001b[38;5;241m.\u001b[39m_IterableDataset_len_called:\n",
      "File \u001b[0;32m~/anaconda3/envs/cmr/lib/python3.8/site-packages/torch/utils/data/dataloader.py:677\u001b[0m, in \u001b[0;36m_SingleProcessDataLoaderIter._next_data\u001b[0;34m(self)\u001b[0m\n\u001b[1;32m    675\u001b[0m \u001b[38;5;28;01mdef\u001b[39;00m \u001b[38;5;21m_next_data\u001b[39m(\u001b[38;5;28mself\u001b[39m):\n\u001b[1;32m    676\u001b[0m     index \u001b[38;5;241m=\u001b[39m \u001b[38;5;28mself\u001b[39m\u001b[38;5;241m.\u001b[39m_next_index()  \u001b[38;5;66;03m# may raise StopIteration\u001b[39;00m\n\u001b[0;32m--> 677\u001b[0m     data \u001b[38;5;241m=\u001b[39m \u001b[38;5;28;43mself\u001b[39;49m\u001b[38;5;241;43m.\u001b[39;49m\u001b[43m_dataset_fetcher\u001b[49m\u001b[38;5;241;43m.\u001b[39;49m\u001b[43mfetch\u001b[49m\u001b[43m(\u001b[49m\u001b[43mindex\u001b[49m\u001b[43m)\u001b[49m  \u001b[38;5;66;03m# may raise StopIteration\u001b[39;00m\n\u001b[1;32m    678\u001b[0m     \u001b[38;5;28;01mif\u001b[39;00m \u001b[38;5;28mself\u001b[39m\u001b[38;5;241m.\u001b[39m_pin_memory:\n\u001b[1;32m    679\u001b[0m         data \u001b[38;5;241m=\u001b[39m _utils\u001b[38;5;241m.\u001b[39mpin_memory\u001b[38;5;241m.\u001b[39mpin_memory(data, \u001b[38;5;28mself\u001b[39m\u001b[38;5;241m.\u001b[39m_pin_memory_device)\n",
      "File \u001b[0;32m~/anaconda3/envs/cmr/lib/python3.8/site-packages/torch/utils/data/_utils/fetch.py:54\u001b[0m, in \u001b[0;36m_MapDatasetFetcher.fetch\u001b[0;34m(self, possibly_batched_index)\u001b[0m\n\u001b[1;32m     52\u001b[0m \u001b[38;5;28;01melse\u001b[39;00m:\n\u001b[1;32m     53\u001b[0m     data \u001b[38;5;241m=\u001b[39m \u001b[38;5;28mself\u001b[39m\u001b[38;5;241m.\u001b[39mdataset[possibly_batched_index]\n\u001b[0;32m---> 54\u001b[0m \u001b[38;5;28;01mreturn\u001b[39;00m \u001b[38;5;28;43mself\u001b[39;49m\u001b[38;5;241;43m.\u001b[39;49m\u001b[43mcollate_fn\u001b[49m\u001b[43m(\u001b[49m\u001b[43mdata\u001b[49m\u001b[43m)\u001b[49m\n",
      "File \u001b[0;32m~/anaconda3/envs/cmr/lib/python3.8/site-packages/torch/utils/data/_utils/collate.py:265\u001b[0m, in \u001b[0;36mdefault_collate\u001b[0;34m(batch)\u001b[0m\n\u001b[1;32m    204\u001b[0m \u001b[38;5;28;01mdef\u001b[39;00m \u001b[38;5;21mdefault_collate\u001b[39m(batch):\n\u001b[1;32m    205\u001b[0m \u001b[38;5;250m    \u001b[39m\u001b[38;5;124mr\u001b[39m\u001b[38;5;124;03m\"\"\"\u001b[39;00m\n\u001b[1;32m    206\u001b[0m \u001b[38;5;124;03m        Function that takes in a batch of data and puts the elements within the batch\u001b[39;00m\n\u001b[1;32m    207\u001b[0m \u001b[38;5;124;03m        into a tensor with an additional outer dimension - batch size. The exact output type can be\u001b[39;00m\n\u001b[0;32m   (...)\u001b[0m\n\u001b[1;32m    263\u001b[0m \u001b[38;5;124;03m            >>> default_collate(batch)  # Handle `CustomType` automatically\u001b[39;00m\n\u001b[1;32m    264\u001b[0m \u001b[38;5;124;03m    \"\"\"\u001b[39;00m\n\u001b[0;32m--> 265\u001b[0m     \u001b[38;5;28;01mreturn\u001b[39;00m \u001b[43mcollate\u001b[49m\u001b[43m(\u001b[49m\u001b[43mbatch\u001b[49m\u001b[43m,\u001b[49m\u001b[43m \u001b[49m\u001b[43mcollate_fn_map\u001b[49m\u001b[38;5;241;43m=\u001b[39;49m\u001b[43mdefault_collate_fn_map\u001b[49m\u001b[43m)\u001b[49m\n",
      "File \u001b[0;32m~/anaconda3/envs/cmr/lib/python3.8/site-packages/torch/utils/data/_utils/collate.py:125\u001b[0m, in \u001b[0;36mcollate\u001b[0;34m(batch, collate_fn_map)\u001b[0m\n\u001b[1;32m    122\u001b[0m         \u001b[38;5;28;01mif\u001b[39;00m \u001b[38;5;28misinstance\u001b[39m(elem, collate_type):\n\u001b[1;32m    123\u001b[0m             \u001b[38;5;28;01mreturn\u001b[39;00m collate_fn_map[collate_type](batch, collate_fn_map\u001b[38;5;241m=\u001b[39mcollate_fn_map)\n\u001b[0;32m--> 125\u001b[0m \u001b[38;5;28;01mif\u001b[39;00m \u001b[38;5;28;43misinstance\u001b[39;49m\u001b[43m(\u001b[49m\u001b[43melem\u001b[49m\u001b[43m,\u001b[49m\u001b[43m \u001b[49m\u001b[43mcollections\u001b[49m\u001b[38;5;241;43m.\u001b[39;49m\u001b[43mabc\u001b[49m\u001b[38;5;241;43m.\u001b[39;49m\u001b[43mMapping\u001b[49m\u001b[43m)\u001b[49m:\n\u001b[1;32m    126\u001b[0m     \u001b[38;5;28;01mtry\u001b[39;00m:\n\u001b[1;32m    127\u001b[0m         \u001b[38;5;28;01mreturn\u001b[39;00m elem_type({key: collate([d[key] \u001b[38;5;28;01mfor\u001b[39;00m d \u001b[38;5;129;01min\u001b[39;00m batch], collate_fn_map\u001b[38;5;241m=\u001b[39mcollate_fn_map) \u001b[38;5;28;01mfor\u001b[39;00m key \u001b[38;5;129;01min\u001b[39;00m elem})\n",
      "File \u001b[0;32m~/anaconda3/envs/cmr/lib/python3.8/abc.py:98\u001b[0m, in \u001b[0;36mABCMeta.__instancecheck__\u001b[0;34m(cls, instance)\u001b[0m\n\u001b[1;32m     96\u001b[0m \u001b[38;5;28;01mdef\u001b[39;00m \u001b[38;5;21m__instancecheck__\u001b[39m(\u001b[38;5;28mcls\u001b[39m, instance):\n\u001b[1;32m     97\u001b[0m \u001b[38;5;250m    \u001b[39m\u001b[38;5;124;03m\"\"\"Override for isinstance(instance, cls).\"\"\"\u001b[39;00m\n\u001b[0;32m---> 98\u001b[0m     \u001b[38;5;28;01mreturn\u001b[39;00m \u001b[43m_abc_instancecheck\u001b[49m\u001b[43m(\u001b[49m\u001b[38;5;28;43mcls\u001b[39;49m\u001b[43m,\u001b[49m\u001b[43m \u001b[49m\u001b[43minstance\u001b[49m\u001b[43m)\u001b[49m\n",
      "\u001b[0;31mKeyboardInterrupt\u001b[0m: "
     ]
    }
   ],
   "source": [
    "class MNISTFOLLOWUP(Dataset):\n",
    "    def __init__(self, mnist_dataset, cmr, transform=None):\n",
    "        self.transform = transform\n",
    "        self.data = []\n",
    "        self.labels = []\n",
    "        for idx, (img, label) in enumerate(mnist_dataset):\n",
    "            for index in cmr:\n",
    "                img = mrs[index](img, paras[index])\n",
    "            self.data.append(img)\n",
    "            self.labels.append(label)\n",
    "            \n",
    "    def __len__(self):\n",
    "        return len(self.data)\n",
    "\n",
    "    def __getitem__(self, idx):\n",
    "        if self.transform is not None:\n",
    "            self.data[idx] = self.transform(self.data[idx])\n",
    "        return self.data[idx], self.labels[idx]\n",
    "\n",
    "\n",
    "\n",
    "mnist_testset = datasets.MNIST(root='./data', train=False, download=True)\n",
    "for k in [4]: \n",
    "    k = k+1\n",
    "    for p in permutations(range(len(mrs)), k):\n",
    "        print(p)\n",
    "\n",
    "        temp = np.zeros(len(mnist_testset))\n",
    "        dateset_followup = MNISTFOLLOWUP(mnist_dataset=mnist_testset, cmr=p, transform=transform)\n",
    "        testload_followup = torch.utils.data.DataLoader(dateset_followup, batch_size=1, shuffle=False)\n",
    "        with torch.no_grad():\n",
    "            for i,(X,y) in enumerate(testload_followup):\n",
    "                X = X.view(-1, input_size).to(device)\n",
    "                recon_batch, _, _ = model(X)\n",
    "                temp[i] = criterion(recon_batch, X).item()\n",
    "                \n",
    "        print(np.where(temp>threshold)[0].size/len(mnist_testset))"
   ]
  },
  {
   "cell_type": "code",
   "execution_count": 3,
   "metadata": {},
   "outputs": [
    {
     "name": "stdout",
     "output_type": "stream",
     "text": [
      "210\n"
     ]
    }
   ],
   "source": [
    "print(len(list(permutations(range(len(mrs)),3))))"
   ]
  },
  {
   "cell_type": "code",
   "execution_count": 55,
   "metadata": {},
   "outputs": [
    {
     "name": "stdout",
     "output_type": "stream",
     "text": [
      "(0,)\n",
      "0.9860378665496065\n",
      "(1,)\n",
      "0.9630546596526117\n",
      "(2,)\n",
      "0.9938322675889176\n",
      "(3,)\n",
      "0.7753557587952193\n",
      "(4,)\n",
      "0.8877162493930575\n",
      "(5,)\n",
      "0.5461778418099702\n",
      "(6,)\n",
      "0.49593342389433165\n",
      "(0, 1)\n",
      "0.9507357471187253\n",
      "(0, 2)\n",
      "0.9807988696923985\n",
      "(0, 3)\n",
      "0.764467301579799\n",
      "(0, 4)\n",
      "0.8810492889567196\n",
      "(0, 5)\n",
      "0.5479129522477735\n",
      "(0, 6)\n",
      "0.5011221770276363\n",
      "(1, 0)\n",
      "0.9507357471187253\n",
      "(1, 2)\n",
      "0.9531640359300599\n",
      "(1, 3)\n",
      "0.7280508366575045\n",
      "(1, 4)\n",
      "0.8394674898122727\n",
      "(1, 5)\n",
      "0.5357793011449284\n",
      "(1, 6)\n",
      "0.4872555749446542\n",
      "(2, 0)\n",
      "0.9804037362447733\n",
      "(2, 1)\n",
      "0.953447904356755\n",
      "(2, 3)\n",
      "0.7643468751568133\n",
      "(2, 4)\n",
      "0.8736565872018668\n",
      "(2, 5)\n",
      "0.5507477265465768\n",
      "(2, 6)\n",
      "0.5037776290188141\n",
      "(3, 0)\n",
      "0.7653113170967254\n",
      "(3, 1)\n",
      "0.7368561537719397\n",
      "(3, 2)\n",
      "0.7640119210839791\n",
      "(3, 4)\n",
      "0.6732627485505763\n",
      "(3, 5)\n",
      "0.4039131233690694\n",
      "(3, 6)\n",
      "0.35396142913558726\n",
      "(4, 0)\n",
      "0.8788305759825583\n",
      "(4, 1)\n",
      "0.8403258517378613\n",
      "(4, 2)\n",
      "0.8743638889341937\n",
      "(4, 3)\n",
      "0.6731568935806268\n",
      "(4, 5)\n",
      "0.5576015439645042\n",
      "(4, 6)\n",
      "0.534904215965643\n",
      "(5, 0)\n",
      "0.547327519630633\n",
      "(5, 1)\n",
      "0.5357793011449284\n",
      "(5, 2)\n",
      "0.5509919218498645\n",
      "(5, 3)\n",
      "0.40131769543326407\n",
      "(5, 4)\n",
      "0.5586134037265259\n",
      "(5, 6)\n",
      "0.20423398624281358\n",
      "(6, 0)\n",
      "0.4951136330898855\n",
      "(6, 1)\n",
      "0.4872555749446542\n",
      "(6, 2)\n",
      "0.5037872887900356\n",
      "(6, 3)\n",
      "0.352085090655651\n",
      "(6, 4)\n",
      "0.5348356487829861\n",
      "(6, 5)\n",
      "0.21425078067847853\n"
     ]
    }
   ],
   "source": [
    "\n",
    "\n",
    "class MNISTFOLLOWUP(Dataset):\n",
    "    def __init__(self, mnist_dataset, cmr, transform=None):\n",
    "        self.transform = transform\n",
    "        self.data = []\n",
    "        self.labels = []\n",
    "        for idx, (img, label) in enumerate(mnist_dataset):\n",
    "            for index in cmr:\n",
    "                img = mrs[index](img, paras[index])\n",
    "            self.data.append(img)\n",
    "            self.labels.append(label)\n",
    "            \n",
    "    def __len__(self):\n",
    "        return len(self.data)\n",
    "\n",
    "    def __getitem__(self, idx):\n",
    "        if self.transform is not None:\n",
    "            self.data[idx] = self.transform(self.data[idx])\n",
    "        return self.data[idx], self.labels[idx]\n",
    "\n",
    "from skimage.metrics import structural_similarity as ssim\n",
    "transform = transforms.Compose([transforms.ToTensor()])\n",
    "mnist_testset = datasets.MNIST(root='./data', train=False, download=True)\n",
    "for k in range(2): \n",
    "    k = k+1\n",
    "    for p in permutations(range(len(mrs)), k):\n",
    "        print(p)\n",
    "        ssim_total = 0\n",
    "        dataset_followup = MNISTFOLLOWUP(mnist_dataset=mnist_testset, cmr=p, transform=transform)\n",
    "        #print(type(dataset_followup[0][0].numpy()),'11')\n",
    "        for i in range(len(mnist_testset)):\n",
    "            img1 = transform(mnist_testset[i][0]).numpy().squeeze()\n",
    "            img2 = dataset_followup[i][0].numpy().squeeze()\n",
    "            ssim_total += ssim(img1, img2, data_range=1)\n",
    "        print(ssim_total/len(mnist_testset))"
   ]
  },
  {
   "cell_type": "code",
   "execution_count": null,
   "metadata": {},
   "outputs": [],
   "source": []
  },
  {
   "cell_type": "code",
   "execution_count": 49,
   "metadata": {},
   "outputs": [
    {
     "ename": "ValueError",
     "evalue": "win_size exceeds image extent. Either ensure that your images are at least 7x7; or pass win_size explicitly in the function call, with an odd value less than or equal to the smaller side of your images. If your images are multichannel (with color channels), set channel_axis to the axis number corresponding to the channels.",
     "output_type": "error",
     "traceback": [
      "\u001b[0;31m---------------------------------------------------------------------------\u001b[0m",
      "\u001b[0;31mValueError\u001b[0m                                Traceback (most recent call last)",
      "Cell \u001b[0;32mIn[49], line 17\u001b[0m\n\u001b[1;32m     14\u001b[0m img2 \u001b[38;5;241m=\u001b[39m mnist_testset[index2][\u001b[38;5;241m0\u001b[39m]\u001b[38;5;241m.\u001b[39mnumpy()\n\u001b[1;32m     16\u001b[0m \u001b[38;5;66;03m# 计算 SSIM\u001b[39;00m\n\u001b[0;32m---> 17\u001b[0m ssim_value, _ \u001b[38;5;241m=\u001b[39m \u001b[43mssim\u001b[49m\u001b[43m(\u001b[49m\u001b[43mimg1\u001b[49m\u001b[43m,\u001b[49m\u001b[43m \u001b[49m\u001b[43mimg2\u001b[49m\u001b[43m,\u001b[49m\u001b[43m \u001b[49m\u001b[43mfull\u001b[49m\u001b[38;5;241;43m=\u001b[39;49m\u001b[38;5;28;43;01mTrue\u001b[39;49;00m\u001b[43m)\u001b[49m\n\u001b[1;32m     19\u001b[0m \u001b[38;5;28mprint\u001b[39m(\u001b[38;5;124mf\u001b[39m\u001b[38;5;124m\"\u001b[39m\u001b[38;5;124mSSIM value between image\u001b[39m\u001b[38;5;132;01m{\u001b[39;00mindex1\u001b[38;5;132;01m}\u001b[39;00m\u001b[38;5;124m and image\u001b[39m\u001b[38;5;132;01m{\u001b[39;00mindex2\u001b[38;5;132;01m}\u001b[39;00m\u001b[38;5;124m: \u001b[39m\u001b[38;5;132;01m{\u001b[39;00mssim_value\u001b[38;5;132;01m}\u001b[39;00m\u001b[38;5;124m\"\u001b[39m)\n",
      "File \u001b[0;32m~/.local/lib/python3.8/site-packages/skimage/metrics/_structural_similarity.py:178\u001b[0m, in \u001b[0;36mstructural_similarity\u001b[0;34m(im1, im2, win_size, gradient, data_range, channel_axis, gaussian_weights, full, **kwargs)\u001b[0m\n\u001b[1;32m    175\u001b[0m         win_size \u001b[38;5;241m=\u001b[39m \u001b[38;5;241m7\u001b[39m   \u001b[38;5;66;03m# backwards compatibility\u001b[39;00m\n\u001b[1;32m    177\u001b[0m \u001b[38;5;28;01mif\u001b[39;00m np\u001b[38;5;241m.\u001b[39many((np\u001b[38;5;241m.\u001b[39masarray(im1\u001b[38;5;241m.\u001b[39mshape) \u001b[38;5;241m-\u001b[39m win_size) \u001b[38;5;241m<\u001b[39m \u001b[38;5;241m0\u001b[39m):\n\u001b[0;32m--> 178\u001b[0m     \u001b[38;5;28;01mraise\u001b[39;00m \u001b[38;5;167;01mValueError\u001b[39;00m(\n\u001b[1;32m    179\u001b[0m         \u001b[38;5;124m'\u001b[39m\u001b[38;5;124mwin_size exceeds image extent. \u001b[39m\u001b[38;5;124m'\u001b[39m\n\u001b[1;32m    180\u001b[0m         \u001b[38;5;124m'\u001b[39m\u001b[38;5;124mEither ensure that your images are \u001b[39m\u001b[38;5;124m'\u001b[39m\n\u001b[1;32m    181\u001b[0m         \u001b[38;5;124m'\u001b[39m\u001b[38;5;124mat least 7x7; or pass win_size explicitly \u001b[39m\u001b[38;5;124m'\u001b[39m\n\u001b[1;32m    182\u001b[0m         \u001b[38;5;124m'\u001b[39m\u001b[38;5;124min the function call, with an odd value \u001b[39m\u001b[38;5;124m'\u001b[39m\n\u001b[1;32m    183\u001b[0m         \u001b[38;5;124m'\u001b[39m\u001b[38;5;124mless than or equal to the smaller side of your \u001b[39m\u001b[38;5;124m'\u001b[39m\n\u001b[1;32m    184\u001b[0m         \u001b[38;5;124m'\u001b[39m\u001b[38;5;124mimages. If your images are multichannel \u001b[39m\u001b[38;5;124m'\u001b[39m\n\u001b[1;32m    185\u001b[0m         \u001b[38;5;124m'\u001b[39m\u001b[38;5;124m(with color channels), set channel_axis to \u001b[39m\u001b[38;5;124m'\u001b[39m\n\u001b[1;32m    186\u001b[0m         \u001b[38;5;124m'\u001b[39m\u001b[38;5;124mthe axis number corresponding to the channels.\u001b[39m\u001b[38;5;124m'\u001b[39m)\n\u001b[1;32m    188\u001b[0m \u001b[38;5;28;01mif\u001b[39;00m \u001b[38;5;129;01mnot\u001b[39;00m (win_size \u001b[38;5;241m%\u001b[39m \u001b[38;5;241m2\u001b[39m \u001b[38;5;241m==\u001b[39m \u001b[38;5;241m1\u001b[39m):\n\u001b[1;32m    189\u001b[0m     \u001b[38;5;28;01mraise\u001b[39;00m \u001b[38;5;167;01mValueError\u001b[39;00m(\u001b[38;5;124m'\u001b[39m\u001b[38;5;124mWindow size must be odd.\u001b[39m\u001b[38;5;124m'\u001b[39m)\n",
      "\u001b[0;31mValueError\u001b[0m: win_size exceeds image extent. Either ensure that your images are at least 7x7; or pass win_size explicitly in the function call, with an odd value less than or equal to the smaller side of your images. If your images are multichannel (with color channels), set channel_axis to the axis number corresponding to the channels."
     ]
    }
   ],
   "source": [
    "from skimage.metrics import structural_similarity as ssim\n",
    "from torchvision import datasets, transforms\n",
    "\n",
    "# 加载 MNIST 数据集\n",
    "transform = transforms.Compose([transforms.ToTensor()])\n",
    "mnist_testset = datasets.MNIST(root='./data', train=False, download=True, transform=transform)\n",
    "\n",
    "# 选择两个图像的索引进行比较\n",
    "index1 = 0  # 第一个图像的索引\n",
    "index2 = 1  # 第二个图像的索引\n",
    "\n",
    "# 获取两个图像数据\n",
    "img1 = mnist_testset[index1][0].numpy()\n",
    "img2 = mnist_testset[index2][0].numpy()\n",
    "\n",
    "# 计算 SSIM\n",
    "ssim_value, _ = ssim(img1, img2, full=True)\n",
    "\n",
    "print(f\"SSIM value between image{index1} and image{index2}: {ssim_value}\")"
   ]
  },
  {
   "cell_type": "markdown",
   "metadata": {},
   "source": [
    "### RQ1"
   ]
  },
  {
   "cell_type": "code",
   "execution_count": 8,
   "metadata": {},
   "outputs": [
    {
     "name": "stdout",
     "output_type": "stream",
     "text": [
      "[[14, 15, 4, 13, 68, 64, 87], [25, 18, 19, 75, 67, 120, 25, 26, 48, 155, 66, 105, 18, 26, 20, 75, 61, 94, 19, 48, 20, 134, 65, 99, 83, 152, 75, 131, 121, 152, 62, 66, 61, 65, 120, 263, 107, 105, 94, 100, 152, 252], [37, 56, 156, 69, 126, 37, 33, 89, 69, 116, 57, 33, 137, 68, 125, 155, 89, 140, 124, 163, 69, 68, 68, 124, 298, 126, 116, 125, 163, 324, 37, 56, 156, 69, 126, 38, 56, 200, 73, 108, 56, 54, 494, 98, 128, 168, 200, 492, 229, 255, 67, 71, 98, 228, 279, 113, 108, 128, 256, 273, 38, 34, 90, 69, 123, 38, 56, 197, 74, 108, 34, 55, 168, 69, 107, 91, 198, 170, 127, 157, 65, 74, 69, 134, 262, 115, 108, 107, 157, 259, 57, 33, 137, 68, 125, 57, 55, 493, 98, 130, 33, 56, 168, 68, 108, 147, 491, 169, 204, 231, 65, 98, 69, 201, 274, 107, 130, 108, 230, 266, 164, 93, 149, 125, 168, 164, 198, 490, 230, 255, 95, 197, 170, 127, 156, 149, 491, 170, 205, 230, 123, 230, 128, 205, 349, 157, 255, 156, 230, 344, 67, 65, 65, 125, 276, 67, 71, 98, 228, 279, 64, 74, 68, 135, 262, 65, 98, 69, 202, 274, 124, 228, 136, 200, 353, 228, 279, 262, 274, 355, 113, 111, 107, 151, 258, 113, 108, 128, 256, 273, 115, 108, 107, 157, 259, 107, 130, 108, 230, 266, 157, 256, 156, 229, 343, 257, 273, 258, 266, 347], [69, 210, 75, 125, 70, 507, 90, 145, 205, 507, 231, 266, 73, 90, 231, 295, 125, 145, 266, 328, 69, 210, 74, 126, 70, 172, 69, 124, 208, 174, 134, 172, 74, 69, 133, 296, 126, 124, 173, 319, 70, 505, 90, 146, 70, 175, 68, 125, 501, 172, 209, 239, 90, 70, 206, 286, 146, 125, 238, 318, 208, 507, 233, 267, 208, 175, 134, 171, 504, 172, 207, 236, 233, 134, 207, 366, 267, 171, 239, 394, 73, 90, 231, 295, 72, 70, 137, 293, 90, 70, 206, 286, 229, 135, 205, 361, 295, 293, 287, 362, 125, 145, 266, 328, 126, 124, 173, 319, 146, 125, 238, 318, 267, 172, 238, 396, 328, 314, 318, 394, 69, 210, 75, 125, 70, 507, 90, 145, 205, 507, 231, 266, 73, 90, 231, 295, 125, 145, 266, 328, 70, 208, 75, 128, 70, 660, 116, 148, 215, 662, 282, 298, 70, 116, 278, 297, 115, 147, 300, 283, 70, 507, 90, 145, 70, 663, 116, 147, 519, 661, 656, 647, 93, 117, 687, 335, 135, 147, 649, 314, 212, 516, 230, 271, 213, 657, 279, 298, 517, 654, 660, 655, 229, 281, 660, 510, 257, 298, 654, 489, 70, 93, 232, 284, 70, 116, 276, 303, 93, 117, 688, 335, 234, 275, 685, 521, 256, 303, 335, 522, 113, 136, 255, 273, 115, 147, 299, 283, 136, 147, 649, 314, 258, 300, 655, 489, 269, 283, 314, 508, 70, 210, 74, 128, 70, 173, 71, 128, 211, 174, 132, 173, 74, 71, 132, 297, 128, 128, 173, 321, 70, 210, 74, 128, 70, 654, 117, 147, 214, 655, 283, 298, 69, 117, 278, 297, 115, 147, 298, 281, 71, 174, 70, 127, 71, 653, 116, 147, 184, 648, 242, 277, 66, 116, 242, 287, 109, 147, 277, 271, 214, 184, 137, 181, 214, 654, 282, 298, 185, 649, 241, 275, 128, 282, 241, 371, 167, 298, 275, 363, 69, 66, 134, 277, 69, 117, 278, 297, 66, 116, 242, 287, 138, 276, 240, 377, 232, 297, 287, 377, 115, 109, 158, 254, 115, 147, 298, 281, 109, 147, 278, 272, 166, 299, 274, 362, 253, 281, 272, 359, 70, 507, 90, 146, 70, 175, 68, 125, 501, 172, 209, 238, 90, 70, 206, 285, 146, 125, 237, 319, 70, 507, 90, 146, 70, 658, 117, 147, 518, 653, 659, 649, 93, 116, 687, 334, 136, 147, 652, 314, 70, 174, 70, 128, 70, 657, 117, 148, 186, 654, 243, 278, 65, 117, 239, 286, 111, 148, 279, 274, 516, 186, 207, 247, 516, 654, 660, 650, 184, 653, 242, 273, 202, 660, 244, 453, 235, 650, 273, 450, 93, 68, 204, 278, 93, 116, 687, 334, 67, 115, 241, 289, 206, 680, 241, 470, 242, 334, 288, 473, 136, 110, 235, 260, 136, 147, 652, 314, 111, 148, 279, 274, 237, 649, 273, 453, 261, 314, 276, 465, 213, 517, 230, 272, 212, 184, 133, 179, 512, 183, 206, 245, 230, 133, 207, 392, 272, 179, 247, 434, 213, 517, 230, 272, 212, 655, 281, 296, 519, 656, 657, 653, 229, 280, 656, 509, 256, 296, 652, 487, 213, 184, 137, 182, 213, 652, 282, 296, 186, 653, 242, 275, 129, 282, 242, 373, 167, 296, 277, 358, 514, 184, 206, 244, 514, 654, 658, 649, 184, 653, 243, 274, 202, 658, 244, 454, 237, 649, 274, 446, 229, 131, 203, 366, 229, 280, 656, 509, 130, 282, 243, 371, 202, 657, 244, 453, 308, 509, 371, 454, 256, 167, 234, 342, 256, 296, 652, 487, 168, 296, 276, 358, 234, 650, 275, 447, 337, 487, 361, 447, 70, 93, 232, 284, 69, 67, 137, 272, 93, 68, 204, 278, 231, 137, 203, 351, 284, 272, 278, 351, 70, 93, 232, 284, 70, 116, 276, 303, 93, 117, 688, 335, 234, 275, 685, 521, 256, 303, 335, 522, 70, 67, 136, 276, 70, 117, 276, 302, 67, 114, 240, 289, 138, 275, 240, 378, 231, 302, 288, 378, 93, 68, 204, 278, 93, 116, 688, 334, 67, 115, 241, 289, 206, 680, 241, 471, 242, 334, 288, 473, 234, 141, 205, 353, 234, 275, 683, 520, 139, 275, 239, 377, 205, 685, 239, 466, 324, 520, 377, 466, 256, 234, 244, 318, 256, 303, 335, 522, 231, 302, 287, 378, 243, 334, 288, 473, 324, 521, 377, 468, 113, 136, 255, 273, 114, 109, 157, 255, 137, 110, 236, 261, 249, 158, 236, 328, 273, 254, 261, 328, 113, 136, 255, 273, 115, 147, 299, 283, 136, 147, 649, 314, 258, 300, 655, 489, 269, 283, 314, 508, 115, 109, 158, 254, 115, 147, 299, 281, 109, 147, 278, 272, 166, 299, 274, 362, 253, 281, 272, 359, 137, 110, 235, 261, 137, 147, 652, 314, 111, 148, 279, 274, 237, 649, 273, 453, 261, 314, 276, 466, 258, 167, 237, 344, 258, 298, 653, 487, 167, 297, 276, 358, 237, 651, 274, 448, 338, 487, 360, 448, 269, 251, 261, 326, 269, 283, 314, 508, 251, 286, 272, 359, 261, 314, 276, 466, 334, 506, 360, 463], [680, 118, 157, 672, 274, 306, 118, 279, 307, 157, 306, 335, 678, 117, 159, 677, 685, 683, 118, 702, 343, 159, 682, 350, 676, 275, 306, 673, 685, 684, 276, 685, 536, 306, 684, 531, 119, 277, 308, 118, 702, 343, 273, 695, 549, 308, 343, 549, 157, 306, 336, 158, 682, 350, 306, 683, 533, 335, 350, 557, 674, 117, 158, 669, 276, 305, 117, 277, 305, 158, 305, 335, 671, 115, 159, 669, 245, 281, 115, 243, 300, 159, 281, 320, 674, 274, 305, 671, 244, 280, 274, 243, 390, 305, 280, 403, 117, 277, 305, 115, 243, 300, 278, 244, 384, 305, 300, 387, 158, 305, 335, 160, 282, 322, 305, 280, 404, 335, 322, 407, 679, 120, 159, 674, 686, 685, 121, 700, 343, 159, 683, 350, 674, 118, 158, 675, 244, 280, 118, 242, 300, 158, 281, 321, 673, 682, 682, 671, 246, 281, 682, 244, 484, 682, 281, 496, 121, 700, 343, 120, 243, 298, 696, 246, 485, 343, 299, 488, 159, 683, 350, 158, 281, 323, 680, 281, 497, 350, 319, 515, 673, 275, 310, 674, 682, 682, 277, 682, 532, 310, 682, 529, 672, 275, 306, 672, 246, 281, 275, 247, 389, 306, 281, 405, 673, 681, 682, 673, 247, 283, 681, 243, 485, 682, 283, 499, 277, 682, 532, 277, 246, 390, 680, 243, 485, 532, 390, 487, 310, 682, 529, 306, 281, 404, 682, 283, 498, 529, 403, 498, 119, 277, 308, 118, 702, 343, 273, 695, 549, 308, 343, 549, 119, 273, 308, 118, 245, 297, 273, 246, 382, 308, 297, 386, 120, 700, 343, 120, 243, 298, 696, 246, 486, 343, 299, 488, 276, 701, 546, 276, 246, 382, 695, 245, 487, 546, 383, 488, 308, 343, 549, 308, 297, 386, 343, 299, 489, 546, 386, 489, 157, 306, 336, 158, 682, 350, 306, 683, 533, 335, 350, 557, 158, 305, 336, 160, 282, 323, 305, 280, 404, 336, 323, 406, 159, 683, 350, 158, 281, 323, 680, 281, 497, 350, 319, 515, 310, 680, 531, 306, 281, 405, 681, 283, 498, 531, 404, 498, 335, 350, 557, 335, 322, 405, 350, 319, 516, 558, 407, 517, 680, 118, 157, 672, 274, 306, 118, 279, 307, 157, 306, 335, 678, 117, 159, 677, 685, 683, 118, 702, 343, 159, 682, 350, 676, 275, 306, 673, 685, 684, 276, 685, 536, 306, 684, 531, 119, 277, 308, 118, 702, 343, 273, 695, 549, 308, 343, 549, 157, 306, 336, 158, 682, 350, 306, 683, 533, 335, 350, 557, 682, 119, 159, 676, 275, 308, 118, 279, 310, 159, 308, 336, 683, 119, 159, 686, 873, 840, 118, 891, 357, 153, 840, 344, 686, 288, 323, 686, 877, 834, 284, 878, 588, 302, 835, 557, 117, 286, 292, 118, 891, 357, 294, 888, 591, 264, 358, 592, 153, 295, 290, 153, 840, 344, 303, 835, 556, 281, 344, 575, 680, 117, 159, 678, 686, 683, 118, 702, 343, 159, 682, 350, 680, 117, 162, 696, 879, 838, 117, 892, 354, 153, 838, 345, 683, 703, 700, 685, 876, 835, 689, 880, 1096, 665, 835, 1059, 119, 701, 335, 120, 886, 358, 696, 887, 1095, 314, 358, 1097, 153, 660, 320, 153, 838, 345, 667, 835, 1063, 314, 345, 1055, 681, 289, 320, 680, 702, 697, 290, 702, 561, 320, 698, 575, 681, 289, 323, 681, 871, 833, 284, 871, 594, 302, 834, 554, 680, 703, 697, 685, 872, 835, 687, 875, 1097, 661, 835, 1064, 286, 686, 531, 286, 873, 588, 687, 875, 1098, 486, 586, 1099, 303, 661, 490, 302, 834, 555, 662, 835, 1065, 494, 561, 1065, 118, 279, 292, 119, 701, 335, 280, 697, 522, 292, 336, 522, 119, 280, 293, 119, 884, 357, 287, 885, 590, 266, 358, 588, 119, 701, 335, 120, 886, 357, 696, 887, 1096, 314, 357, 1097, 290, 697, 543, 290, 884, 590, 697, 885, 1097, 504, 590, 1098, 270, 314, 489, 267, 358, 588, 314, 358, 1097, 505, 589, 1098, 152, 297, 290, 153, 661, 320, 297, 662, 489, 292, 319, 501, 153, 295, 290, 153, 840, 344, 303, 835, 556, 281, 344, 574, 153, 661, 320, 153, 838, 346, 667, 836, 1065, 314, 345, 1055, 302, 664, 490, 302, 834, 556, 665, 837, 1068, 495, 562, 1067, 281, 314, 505, 282, 341, 572, 314, 345, 1055, 508, 573, 1052, 673, 117, 158, 669, 276, 309, 117, 277, 309, 158, 309, 340, 672, 116, 160, 669, 244, 280, 116, 244, 299, 160, 280, 328, 672, 276, 309, 671, 244, 276, 276, 243, 392, 309, 276, 405, 117, 277, 309, 116, 244, 299, 277, 243, 384, 309, 298, 387, 158, 309, 340, 160, 280, 328, 309, 277, 407, 340, 328, 409, 673, 117, 158, 669, 276, 309, 117, 277, 309, 158, 309, 340, 673, 117, 158, 677, 871, 833, 116, 886, 357, 154, 833, 344, 680, 288, 323, 680, 873, 833, 285, 872, 590, 301, 833, 556, 115, 285, 291, 116, 886, 357, 291, 886, 590, 267, 357, 589, 153, 294, 292, 153, 833, 344, 301, 833, 555, 279, 344, 573, 674, 116, 160, 670, 244, 279, 116, 245, 300, 160, 280, 328, 674, 116, 160, 680, 872, 838, 115, 890, 354, 154, 838, 343, 680, 248, 286, 680, 873, 834, 248, 873, 526, 269, 834, 500, 115, 247, 282, 115, 890, 354, 244, 885, 533, 256, 354, 531, 154, 275, 272, 154, 838, 343, 271, 834, 504, 262, 343, 526, 680, 289, 327, 681, 248, 289, 289, 248, 421, 327, 290, 458, 680, 289, 327, 679, 871, 831, 282, 871, 586, 302, 832, 552, 682, 248, 290, 682, 872, 833, 246, 872, 525, 268, 833, 504, 282, 246, 397, 282, 871, 586, 246, 872, 525, 333, 586, 526, 302, 267, 369, 302, 832, 552, 267, 834, 504, 362, 552, 504, 115, 285, 291, 115, 246, 282, 283, 244, 374, 291, 282, 375, 115, 285, 291, 116, 886, 357, 291, 886, 590, 267, 357, 589, 115, 246, 282, 115, 890, 354, 244, 884, 533, 256, 354, 531, 296, 244, 390, 296, 880, 590, 244, 882, 534, 357, 590, 535, 267, 257, 342, 267, 357, 589, 256, 354, 531, 356, 589, 535, 153, 294, 292, 153, 276, 274, 296, 277, 347, 292, 274, 354, 153, 294, 292, 153, 833, 344, 301, 833, 555, 279, 344, 573, 153, 276, 273, 153, 838, 344, 271, 834, 504, 264, 344, 525, 303, 269, 368, 303, 832, 554, 270, 834, 506, 361, 554, 506, 279, 265, 348, 279, 344, 573, 264, 344, 524, 351, 573, 525, 680, 120, 160, 674, 686, 686, 121, 701, 343, 160, 685, 350, 674, 118, 158, 676, 244, 280, 118, 241, 300, 158, 281, 320, 672, 682, 684, 669, 246, 280, 682, 244, 484, 684, 280, 497, 121, 701, 343, 120, 244, 298, 697, 245, 485, 343, 299, 488, 160, 685, 350, 158, 281, 323, 682, 281, 498, 350, 320, 515, 680, 120, 160, 674, 686, 686, 121, 701, 343, 160, 685, 350, 681, 119, 159, 693, 882, 838, 118, 896, 355, 153, 837, 343, 688, 699, 704, 688, 879, 832, 688, 881, 1102, 663, 832, 1060, 119, 702, 337, 118, 892, 359, 699, 891, 1100, 314, 358, 1100, 153, 665, 320, 153, 837, 343, 665, 833, 1062, 312, 346, 1051, 676, 118, 159, 678, 243, 278, 118, 244, 299, 159, 280, 325, 676, 118, 159, 683, 873, 838, 116, 890, 354, 154, 838, 343, 685, 248, 287, 685, 871, 832, 246, 871, 526, 268, 832, 504, 116, 246, 285, 116, 890, 354, 242, 886, 535, 254, 354, 534, 154, 276, 272, 154, 838, 343, 270, 831, 506, 265, 343, 523, 679, 698, 694, 677, 247, 287, 698, 251, 512, 694, 287, 534, 679, 698, 694, 684, 874, 833, 685, 877, 1096, 660, 833, 1063, 680, 250, 285, 680, 868, 833, 249, 868, 526, 270, 833, 506, 685, 248, 489, 685, 877, 1096, 249, 870, 530, 426, 1096, 530, 660, 270, 455, 660, 833, 1063, 270, 833, 507, 454, 1063, 504, 119, 702, 337, 118, 249, 285, 700, 248, 471, 337, 286, 473, 119, 702, 337, 118, 892, 359, 699, 891, 1100, 314, 358, 1100, 118, 252, 283, 118, 883, 357, 244, 883, 533, 254, 357, 534, 699, 242, 481, 699, 888, 1096, 243, 878, 535, 444, 1096, 535, 314, 254, 444, 314, 358, 1100, 254, 357, 535, 444, 1096, 533, 153, 665, 320, 152, 274, 270, 664, 276, 444, 320, 271, 454, 153, 665, 320, 153, 837, 343, 665, 833, 1062, 312, 346, 1051, 154, 276, 273, 154, 838, 343, 270, 832, 508, 265, 343, 523, 663, 272, 457, 663, 834, 1062, 272, 833, 509, 456, 1062, 505, 312, 263, 450, 312, 346, 1051, 266, 343, 524, 465, 1053, 521, 680, 287, 319, 681, 697, 703, 290, 697, 560, 319, 703, 575, 678, 289, 322, 679, 249, 285, 289, 250, 416, 322, 289, 446, 676, 698, 697, 676, 247, 288, 698, 251, 515, 697, 288, 537, 290, 697, 560, 287, 251, 415, 698, 250, 515, 560, 415, 514, 319, 703, 575, 322, 289, 446, 698, 287, 539, 575, 444, 539, 680, 287, 319, 681, 697, 703, 290, 697, 560, 319, 703, 575, 683, 287, 325, 683, 872, 832, 284, 872, 588, 302, 833, 557, 682, 698, 703, 683, 874, 835, 685, 873, 1097, 660, 835, 1061, 287, 685, 531, 286, 877, 586, 685, 873, 1097, 490, 586, 1098, 303, 660, 490, 302, 833, 557, 661, 836, 1063, 491, 563, 1063, 677, 289, 324, 679, 251, 284, 289, 251, 418, 324, 284, 460, 677, 289, 324, 677, 872, 830, 281, 873, 586, 301, 832, 552, 679, 251, 285, 679, 863, 828, 249, 863, 527, 268, 828, 504, 281, 249, 394, 281, 873, 586, 249, 864, 526, 327, 586, 530, 301, 268, 367, 301, 832, 552, 269, 829, 506, 363, 552, 506, 677, 698, 698, 676, 246, 286, 698, 249, 515, 698, 286, 538, 677, 698, 698, 681, 876, 832, 685, 880, 1100, 660, 832, 1063, 678, 249, 287, 678, 867, 831, 247, 867, 524, 270, 831, 510, 685, 249, 490, 685, 880, 1100, 248, 870, 529, 430, 1100, 529, 660, 269, 456, 660, 832, 1063, 270, 831, 509, 455, 1063, 507, 287, 685, 531, 284, 250, 391, 684, 250, 489, 531, 391, 489, 287, 685, 531, 286, 877, 586, 685, 873, 1097, 490, 586, 1098, 287, 247, 394, 287, 869, 587, 247, 868, 529, 333, 587, 530, 685, 249, 490, 685, 880, 1100, 248, 869, 529, 430, 1100, 529, 490, 328, 431, 490, 586, 1098, 332, 586, 530, 431, 1101, 529, 303, 660, 490, 302, 268, 362, 661, 269, 457, 490, 365, 457, 303, 660, 490, 302, 833, 557, 661, 836, 1063, 491, 563, 1063, 301, 269, 367, 301, 832, 552, 270, 829, 506, 363, 552, 506, 662, 269, 456, 662, 833, 1065, 271, 831, 511, 455, 1065, 508, 491, 361, 455, 491, 563, 1063, 361, 560, 504, 455, 1065, 507, 118, 279, 292, 119, 701, 335, 280, 697, 522, 292, 336, 522, 118, 279, 290, 116, 250, 284, 281, 247, 371, 290, 284, 373, 119, 701, 336, 118, 249, 285, 700, 248, 470, 336, 286, 473, 284, 700, 524, 278, 247, 369, 697, 247, 471, 524, 369, 474, 292, 336, 522, 290, 284, 373, 336, 286, 474, 523, 370, 473, 118, 279, 292, 119, 701, 335, 280, 697, 522, 292, 336, 522, 119, 280, 293, 119, 884, 357, 287, 885, 590, 266, 358, 588, 119, 701, 335, 120, 886, 357, 696, 887, 1096, 314, 357, 1097, 290, 697, 543, 290, 884, 590, 697, 885, 1097, 504, 590, 1098, 270, 314, 489, 267, 358, 588, 314, 358, 1097, 505, 589, 1098, 117, 280, 291, 118, 250, 282, 281, 248, 370, 291, 282, 371, 117, 280, 291, 118, 882, 357, 286, 883, 584, 267, 359, 586, 118, 249, 283, 118, 881, 355, 244, 879, 535, 256, 355, 535, 291, 245, 393, 291, 883, 589, 247, 879, 535, 357, 589, 535, 267, 255, 342, 267, 359, 586, 256, 355, 535, 355, 588, 537, 119, 702, 337, 118, 249, 285, 700, 248, 471, 337, 286, 473, 119, 702, 337, 118, 892, 359, 699, 891, 1101, 314, 358, 1100, 118, 252, 283, 118, 883, 357, 244, 882, 534, 254, 357, 534, 699, 242, 481, 699, 889, 1096, 243, 878, 535, 445, 1096, 535, 314, 254, 444, 314, 358, 1100, 254, 357, 535, 444, 1096, 533, 290, 700, 542, 289, 246, 385, 697, 245, 483, 542, 386, 485, 290, 700, 542, 292, 886, 588, 700, 886, 1095, 507, 588, 1094, 289, 246, 391, 289, 879, 587, 246, 881, 532, 356, 587, 534, 698, 244, 484, 698, 882, 1093, 246, 880, 535, 445, 1093, 535, 507, 352, 443, 507, 588, 1094, 356, 587, 534, 444, 1094, 535, 270, 314, 489, 269, 254, 342, 314, 255, 444, 494, 340, 446, 270, 314, 489, 267, 358, 588, 314, 358, 1097, 505, 589, 1098, 267, 255, 342, 267, 359, 586, 256, 355, 537, 355, 588, 537, 314, 254, 445, 314, 358, 1100, 254, 358, 535, 444, 1096, 532, 506, 350, 444, 506, 590, 1095, 354, 587, 534, 445, 1093, 534, 152, 297, 290, 153, 661, 320, 297, 662, 489, 292, 319, 501, 152, 293, 288, 152, 274, 273, 295, 272, 346, 288, 273, 352, 154, 662, 320, 153, 274, 271, 663, 275, 443, 320, 272, 454, 293, 662, 489, 294, 274, 343, 658, 275, 443, 489, 346, 443, 292, 319, 501, 288, 272, 351, 320, 272, 454, 498, 353, 456, 152, 297, 290, 153, 661, 320, 297, 662, 489, 292, 319, 501, 153, 295, 290, 153, 840, 344, 303, 835, 556, 281, 344, 574, 153, 661, 320, 153, 838, 346, 667, 836, 1065, 314, 345, 1055, 302, 664, 490, 302, 834, 556, 665, 837, 1068, 495, 562, 1067, 281, 314, 505, 282, 341, 572, 314, 345, 1055, 508, 573, 1052, 153, 294, 292, 153, 276, 274, 296, 277, 346, 292, 274, 354, 153, 294, 292, 153, 833, 344, 301, 833, 555, 279, 344, 573, 153, 276, 273, 153, 838, 344, 271, 834, 504, 264, 344, 524, 303, 269, 367, 303, 832, 553, 270, 834, 505, 361, 553, 505, 279, 265, 348, 279, 344, 573, 264, 344, 523, 351, 573, 525, 154, 664, 320, 153, 274, 271, 665, 276, 445, 320, 272, 455, 154, 664, 320, 152, 837, 343, 664, 833, 1065, 313, 346, 1051, 153, 276, 273, 153, 838, 343, 270, 831, 508, 266, 343, 523, 663, 272, 458, 663, 834, 1063, 272, 833, 510, 457, 1063, 505, 313, 263, 451, 313, 346, 1051, 265, 343, 524, 466, 1052, 522, 302, 662, 491, 302, 269, 364, 664, 270, 459, 491, 367, 459, 302, 662, 491, 302, 832, 557, 663, 836, 1064, 490, 566, 1064, 301, 271, 368, 301, 833, 553, 272, 829, 507, 364, 553, 507, 665, 270, 458, 665, 833, 1067, 273, 831, 510, 457, 1067, 509, 490, 364, 457, 490, 566, 1064, 363, 562, 505, 457, 1067, 509, 281, 314, 505, 278, 264, 349, 313, 264, 451, 500, 347, 452, 281, 314, 505, 282, 341, 572, 314, 345, 1055, 508, 573, 1052, 282, 264, 347, 282, 342, 572, 263, 343, 524, 355, 572, 524, 313, 264, 451, 313, 346, 1052, 265, 343, 524, 466, 1053, 522, 503, 347, 465, 503, 574, 1049, 353, 571, 524, 466, 1048, 521], [890, 859, 892, 368, 860, 384, 896, 855, 895, 624, 855, 615, 892, 368, 894, 612, 368, 611, 860, 385, 857, 616, 385, 621, 899, 860, 892, 371, 860, 386, 901, 859, 905, 1124, 860, 1118, 889, 371, 888, 1122, 371, 1125, 860, 386, 861, 1119, 386, 1099, 895, 851, 895, 628, 851, 615, 897, 854, 899, 1126, 853, 1114, 898, 629, 899, 1127, 629, 1127, 851, 615, 853, 1113, 616, 1114, 891, 367, 891, 613, 367, 613, 891, 371, 888, 1122, 371, 1125, 886, 615, 893, 1128, 614, 1127, 367, 613, 371, 1126, 614, 1128, 860, 386, 857, 616, 386, 621, 860, 387, 861, 1119, 386, 1099, 852, 618, 854, 1112, 619, 1113, 386, 621, 386, 1100, 621, 1097, 891, 856, 893, 368, 855, 384, 894, 856, 894, 622, 856, 611, 892, 368, 893, 612, 368, 611, 855, 384, 858, 614, 384, 622, 892, 856, 891, 370, 856, 387, 890, 853, 890, 561, 853, 549, 891, 370, 890, 563, 370, 563, 856, 387, 853, 550, 387, 577, 895, 849, 895, 623, 849, 610, 892, 851, 892, 561, 851, 548, 895, 623, 893, 561, 623, 561, 849, 610, 851, 549, 610, 550, 892, 368, 893, 612, 368, 611, 891, 370, 889, 563, 370, 563, 888, 611, 885, 563, 611, 563, 368, 611, 370, 563, 609, 564, 855, 384, 858, 614, 384, 622, 856, 388, 853, 551, 388, 577, 850, 611, 852, 550, 611, 551, 384, 622, 388, 577, 623, 578, 900, 858, 895, 368, 858, 384, 898, 854, 903, 1125, 853, 1109, 892, 370, 893, 1129, 370, 1131, 859, 385, 853, 1110, 388, 1100, 896, 855, 894, 366, 855, 386, 893, 852, 893, 559, 852, 548, 894, 366, 891, 562, 366, 566, 855, 386, 854, 550, 386, 574, 898, 849, 900, 1123, 849, 1109, 889, 847, 889, 565, 847, 548, 900, 1123, 895, 562, 1123, 562, 849, 1109, 847, 549, 1109, 555, 892, 370, 893, 1129, 370, 1131, 892, 367, 888, 565, 367, 566, 894, 1119, 887, 563, 1119, 563, 370, 1131, 367, 566, 1120, 563, 859, 385, 853, 1110, 388, 1100, 855, 387, 854, 551, 387, 575, 848, 1109, 848, 551, 1109, 555, 388, 1100, 393, 577, 1097, 574, 894, 852, 892, 625, 852, 613, 895, 856, 898, 1125, 856, 1117, 896, 629, 898, 1126, 629, 1126, 851, 613, 857, 1117, 616, 1117, 895, 851, 894, 625, 850, 612, 889, 851, 889, 562, 851, 550, 894, 625, 889, 562, 625, 563, 850, 612, 851, 553, 612, 554, 894, 851, 898, 1126, 849, 1112, 891, 850, 891, 564, 850, 549, 898, 1126, 895, 564, 1126, 564, 849, 1112, 849, 549, 1112, 555, 896, 629, 898, 1126, 629, 1126, 895, 628, 889, 566, 628, 566, 898, 1126, 895, 564, 1126, 564, 629, 1126, 628, 566, 1127, 564, 851, 613, 857, 1117, 616, 1117, 850, 612, 851, 553, 612, 554, 849, 1113, 849, 552, 1113, 558, 616, 1117, 619, 557, 1113, 558, 891, 367, 891, 613, 367, 613, 891, 371, 888, 1122, 371, 1125, 886, 615, 893, 1128, 614, 1127, 367, 613, 371, 1126, 614, 1128, 889, 368, 888, 614, 368, 614, 886, 368, 885, 561, 368, 562, 884, 613, 881, 564, 613, 566, 368, 614, 368, 562, 612, 566, 893, 370, 893, 1129, 370, 1131, 892, 367, 888, 565, 367, 567, 894, 1119, 887, 563, 1119, 564, 370, 1131, 367, 567, 1120, 563, 887, 610, 891, 1129, 610, 1129, 883, 612, 882, 563, 612, 563, 888, 1125, 885, 562, 1125, 563, 610, 1129, 612, 563, 1126, 563, 367, 613, 371, 1126, 614, 1128, 368, 614, 368, 561, 612, 566, 370, 1133, 367, 566, 1120, 563, 611, 1130, 611, 563, 1127, 562, 860, 386, 857, 616, 386, 621, 860, 387, 861, 1119, 386, 1099, 852, 618, 854, 1112, 619, 1113, 386, 621, 386, 1100, 621, 1097, 855, 385, 858, 614, 385, 622, 856, 389, 853, 550, 389, 577, 850, 611, 852, 551, 611, 552, 385, 622, 389, 577, 622, 578, 859, 386, 853, 1109, 388, 1100, 855, 387, 854, 552, 387, 575, 848, 1111, 848, 551, 1111, 556, 388, 1100, 393, 576, 1097, 573, 852, 615, 857, 1118, 617, 1118, 852, 614, 851, 553, 614, 554, 851, 1113, 851, 553, 1113, 557, 617, 1118, 620, 558, 1113, 557, 386, 621, 386, 1100, 621, 1097, 381, 621, 386, 574, 624, 573, 388, 1100, 393, 576, 1097, 573, 623, 1102, 624, 572, 1099, 574, 890, 859, 892, 368, 860, 384, 896, 855, 895, 624, 855, 615, 892, 368, 894, 612, 368, 611, 860, 385, 857, 616, 385, 621, 899, 860, 892, 371, 860, 386, 901, 859, 905, 1124, 860, 1118, 889, 371, 888, 1122, 371, 1125, 860, 386, 861, 1119, 386, 1099, 895, 851, 895, 628, 851, 615, 897, 854, 899, 1126, 853, 1114, 898, 629, 899, 1127, 629, 1127, 851, 615, 853, 1113, 616, 1114, 891, 367, 891, 613, 367, 613, 891, 371, 888, 1122, 371, 1125, 886, 615, 893, 1128, 614, 1127, 367, 613, 371, 1126, 614, 1128, 860, 386, 857, 616, 386, 621, 860, 387, 861, 1119, 386, 1099, 852, 618, 854, 1112, 619, 1113, 386, 621, 386, 1100, 621, 1097, 893, 859, 896, 368, 860, 393, 894, 856, 894, 627, 856, 618, 897, 368, 895, 617, 368, 618, 861, 394, 858, 619, 394, 621, 895, 859, 898, 368, 860, 393, 917, 866, 898, 1343, 835, 1288, 895, 355, 902, 1352, 350, 1350, 833, 349, 837, 1291, 344, 1299, 919, 865, 919, 646, 865, 645, 919, 864, 901, 1350, 834, 1286, 901, 617, 901, 1348, 573, 1351, 834, 569, 835, 1288, 564, 1288, 893, 355, 897, 606, 355, 608, 895, 355, 903, 1353, 350, 1351, 898, 619, 899, 1350, 587, 1349, 350, 572, 350, 1351, 586, 1350, 833, 351, 832, 559, 352, 569, 832, 352, 837, 1291, 346, 1299, 836, 568, 837, 1289, 566, 1290, 347, 571, 347, 1299, 573, 1295, 900, 861, 895, 371, 860, 386, 902, 860, 906, 1126, 860, 1116, 892, 370, 890, 1123, 370, 1126, 860, 387, 861, 1117, 387, 1099, 897, 861, 894, 371, 861, 391, 919, 869, 903, 1350, 834, 1288, 897, 358, 903, 1357, 353, 1356, 833, 351, 837, 1290, 345, 1296, 919, 863, 924, 1149, 864, 1168, 917, 867, 901, 1345, 830, 1287, 910, 1111, 910, 1355, 1082, 1354, 833, 1041, 830, 1288, 1034, 1290, 892, 355, 891, 1105, 355, 1107, 895, 359, 897, 1345, 349, 1347, 898, 1103, 896, 1342, 1072, 1342, 352, 1072, 350, 1347, 1075, 1340, 832, 348, 831, 1040, 347, 1035, 833, 351, 836, 1291, 345, 1298, 833, 1041, 833, 1290, 1035, 1293, 342, 1043, 345, 1298, 1040, 1292, 916, 859, 916, 646, 861, 638, 917, 864, 921, 1143, 864, 1164, 922, 643, 921, 1144, 643, 1147, 861, 638, 864, 1164, 641, 1165, 916, 865, 916, 646, 866, 648, 916, 866, 898, 1348, 832, 1286, 899, 618, 898, 1347, 573, 1348, 834, 567, 834, 1287, 562, 1286, 920, 864, 923, 1145, 864, 1164, 919, 864, 905, 1344, 833, 1291, 909, 1109, 909, 1354, 1084, 1355, 830, 1042, 833, 1292, 1038, 1297, 903, 616, 907, 1109, 617, 1109, 911, 619, 911, 1349, 568, 1352, 909, 1109, 909, 1354, 1084, 1355, 571, 1085, 566, 1352, 1085, 1356, 830, 563, 832, 1042, 570, 1043, 834, 566, 834, 1287, 562, 1286, 833, 1044, 833, 1294, 1038, 1297, 566, 1037, 567, 1290, 1038, 1298, 890, 354, 890, 601, 354, 600, 891, 356, 886, 1107, 356, 1107, 884, 601, 886, 1111, 601, 1110, 354, 600, 356, 1108, 601, 1111, 890, 356, 890, 601, 356, 602, 892, 357, 897, 1344, 347, 1344, 898, 621, 899, 1343, 585, 1344, 347, 569, 347, 1344, 584, 1342, 893, 355, 890, 1107, 355, 1107, 895, 359, 897, 1345, 349, 1347, 898, 1103, 896, 1342, 1072, 1342, 352, 1072, 350, 1347, 1075, 1341, 897, 615, 897, 1104, 615, 1104, 896, 619, 897, 1340, 588, 1341, 898, 1108, 898, 1342, 1073, 1342, 586, 1073, 588, 1341, 1074, 1344, 348, 570, 350, 1072, 570, 1074, 346, 569, 347, 1344, 583, 1343, 352, 1073, 349, 1347, 1075, 1341, 582, 1076, 585, 1340, 1076, 1343, 837, 349, 833, 558, 349, 567, 832, 347, 831, 1038, 347, 1035, 833, 556, 833, 1047, 555, 1047, 350, 568, 348, 1035, 567, 1034, 831, 351, 832, 558, 352, 569, 831, 352, 837, 1291, 346, 1299, 836, 567, 837, 1289, 565, 1290, 347, 571, 347, 1299, 573, 1295, 832, 347, 831, 1040, 347, 1035, 833, 351, 837, 1291, 346, 1298, 834, 1041, 832, 1290, 1036, 1293, 342, 1041, 345, 1298, 1040, 1294, 832, 562, 832, 1043, 569, 1043, 837, 566, 837, 1289, 565, 1289, 833, 1044, 836, 1297, 1039, 1299, 566, 1038, 567, 1290, 1039, 1299, 343, 574, 342, 1040, 569, 1038, 346, 574, 346, 1294, 566, 1288, 342, 1041, 345, 1298, 1040, 1293, 573, 1043, 572, 1286, 1045, 1289, 893, 854, 895, 366, 855, 393, 895, 859, 895, 624, 859, 615, 895, 366, 891, 611, 367, 611, 855, 395, 861, 615, 395, 622, 892, 855, 895, 370, 855, 394, 892, 856, 892, 562, 856, 548, 895, 370, 888, 562, 370, 565, 855, 394, 856, 549, 394, 578, 894, 851, 893, 627, 851, 612, 893, 851, 893, 561, 851, 551, 893, 627, 893, 560, 627, 561, 851, 612, 851, 554, 612, 554, 895, 366, 891, 611, 367, 611, 895, 370, 889, 562, 370, 565, 886, 616, 886, 563, 616, 565, 367, 611, 371, 565, 616, 564, 855, 395, 861, 615, 395, 622, 855, 394, 856, 551, 394, 578, 853, 613, 852, 554, 613, 554, 395, 622, 394, 578, 624, 579, 893, 854, 895, 366, 855, 393, 895, 859, 895, 624, 859, 615, 895, 366, 891, 611, 367, 611, 855, 395, 861, 615, 395, 622, 895, 854, 895, 366, 855, 392, 913, 865, 896, 1341, 827, 1280, 892, 355, 896, 1351, 351, 1352, 833, 350, 829, 1284, 344, 1291, 916, 864, 915, 650, 864, 645, 916, 864, 897, 1347, 831, 1282, 897, 618, 897, 1347, 573, 1349, 831, 568, 831, 1284, 562, 1285, 892, 354, 893, 597, 355, 600, 892, 355, 895, 1353, 351, 1352, 899, 620, 898, 1351, 586, 1350, 351, 573, 351, 1352, 584, 1349, 833, 351, 830, 557, 351, 569, 833, 352, 829, 1286, 345, 1291, 832, 568, 832, 1286, 563, 1287, 345, 573, 345, 1291, 572, 1293, 893, 855, 895, 371, 855, 391, 892, 857, 892, 563, 857, 547, 895, 371, 888, 563, 371, 565, 855, 391, 857, 549, 391, 577, 893, 855, 895, 371, 855, 391, 915, 866, 896, 1342, 833, 1285, 891, 355, 901, 1352, 349, 1351, 832, 350, 836, 1287, 344, 1296, 914, 863, 914, 588, 863, 594, 914, 863, 896, 1344, 827, 1285, 896, 558, 896, 1344, 513, 1344, 827, 517, 827, 1285, 516, 1285, 891, 355, 888, 545, 355, 550, 891, 355, 901, 1352, 349, 1351, 896, 564, 896, 1347, 520, 1347, 349, 512, 349, 1351, 522, 1343, 832, 350, 831, 510, 350, 519, 832, 350, 836, 1287, 344, 1296, 830, 519, 830, 1288, 518, 1288, 344, 516, 344, 1296, 534, 1293, 919, 860, 919, 648, 861, 644, 912, 861, 912, 592, 861, 596, 919, 648, 912, 592, 648, 591, 861, 644, 860, 597, 644, 598, 919, 860, 919, 648, 861, 644, 919, 861, 900, 1340, 826, 1286, 900, 618, 900, 1340, 568, 1340, 827, 565, 827, 1288, 561, 1288, 912, 860, 912, 592, 860, 595, 912, 860, 898, 1341, 824, 1284, 898, 558, 898, 1341, 514, 1341, 824, 523, 824, 1284, 520, 1284, 900, 618, 896, 558, 618, 558, 900, 618, 900, 1340, 568, 1340, 898, 558, 898, 1341, 514, 1341, 568, 514, 568, 1340, 514, 1342, 827, 565, 825, 524, 565, 524, 827, 565, 827, 1288, 561, 1288, 825, 523, 825, 1285, 521, 1285, 561, 522, 561, 1288, 521, 1285, 892, 354, 893, 597, 355, 600, 888, 354, 888, 545, 354, 550, 890, 604, 888, 548, 604, 551, 355, 600, 355, 550, 604, 552, 892, 354, 893, 597, 355, 600, 892, 355, 895, 1353, 351, 1352, 899, 620, 898, 1351, 586, 1350, 351, 573, 351, 1352, 584, 1349, 891, 355, 888, 545, 355, 550, 891, 355, 901, 1355, 349, 1352, 896, 565, 896, 1347, 520, 1347, 349, 512, 349, 1352, 522, 1344, 900, 619, 895, 565, 619, 565, 900, 619, 900, 1349, 581, 1349, 895, 565, 895, 1348, 521, 1348, 581, 521, 581, 1349, 522, 1348, 351, 573, 349, 510, 572, 510, 351, 573, 351, 1352, 584, 1349, 349, 512, 349, 1352, 522, 1344, 578, 522, 578, 1347, 523, 1347, 833, 351, 830, 557, 351, 569, 834, 351, 831, 511, 351, 520, 829, 559, 831, 509, 559, 508, 351, 569, 350, 520, 566, 520, 833, 351, 830, 557, 351, 569, 833, 352, 829, 1286, 345, 1291, 832, 568, 832, 1286, 563, 1287, 345, 573, 345, 1291, 572, 1293, 831, 352, 831, 510, 352, 519, 831, 352, 836, 1287, 345, 1296, 830, 520, 830, 1289, 518, 1289, 345, 515, 345, 1296, 534, 1293, 829, 564, 827, 524, 564, 524, 829, 564, 828, 1290, 563, 1290, 827, 523, 827, 1287, 522, 1287, 563, 523, 563, 1290, 522, 1288, 345, 573, 345, 515, 567, 517, 345, 573, 345, 1291, 572, 1293, 345, 515, 345, 1296, 534, 1293, 569, 532, 569, 1291, 533, 1292, 900, 858, 900, 369, 858, 384, 897, 853, 902, 1129, 853, 1112, 895, 369, 892, 1130, 369, 1132, 859, 385, 854, 1113, 389, 1100, 897, 856, 894, 368, 857, 385, 893, 851, 893, 562, 851, 551, 894, 368, 892, 560, 368, 563, 857, 385, 854, 552, 385, 575, 897, 849, 899, 1124, 850, 1113, 889, 848, 889, 564, 848, 549, 899, 1124, 895, 560, 1124, 560, 850, 1113, 848, 550, 1113, 556, 895, 369, 892, 1130, 369, 1132, 892, 368, 888, 567, 368, 569, 895, 1121, 887, 562, 1121, 562, 369, 1132, 368, 569, 1122, 562, 859, 385, 854, 1113, 389, 1100, 857, 386, 854, 554, 386, 576, 850, 1113, 850, 553, 1113, 557, 389, 1100, 392, 578, 1097, 575, 900, 858, 900, 369, 858, 384, 897, 853, 902, 1129, 853, 1112, 895, 369, 892, 1130, 369, 1132, 859, 385, 854, 1113, 389, 1100, 902, 860, 898, 372, 860, 394, 918, 872, 904, 1352, 834, 1293, 898, 361, 909, 1360, 353, 1359, 835, 348, 836, 1294, 344, 1293, 919, 867, 922, 1156, 868, 1167, 921, 869, 901, 1348, 834, 1290, 912, 1111, 911, 1351, 1084, 1351, 832, 1040, 834, 1291, 1036, 1296, 892, 356, 887, 1105, 356, 1107, 895, 357, 903, 1349, 349, 1347, 899, 1105, 897, 1346, 1068, 1346, 349, 1081, 349, 1347, 1071, 1345, 835, 346, 834, 1042, 348, 1034, 835, 349, 836, 1295, 344, 1294, 834, 1040, 837, 1293, 1035, 1297, 341, 1039, 344, 1297, 1040, 1288, 898, 854, 897, 370, 856, 394, 893, 856, 893, 561, 856, 553, 897, 370, 894, 561, 370, 564, 856, 394, 856, 553, 394, 576, 898, 854, 897, 370, 856, 394, 920, 866, 903, 1347, 832, 1290, 892, 355, 899, 1349, 353, 1348, 830, 348, 835, 1290, 344, 1291, 913, 866, 913, 590, 866, 594, 913, 866, 893, 1347, 829, 1286, 893, 557, 893, 1347, 509, 1347, 829, 524, 829, 1286, 517, 1286, 892, 355, 890, 547, 355, 550, 892, 355, 899, 1349, 353, 1348, 897, 563, 897, 1351, 520, 1351, 353, 507, 353, 1348, 520, 1350, 830, 348, 832, 510, 348, 519, 830, 348, 835, 1290, 344, 1291, 834, 525, 834, 1291, 518, 1291, 344, 518, 344, 1291, 535, 1287, 919, 863, 921, 1148, 864, 1156, 909, 856, 909, 580, 856, 586, 921, 1148, 915, 575, 1148, 575, 864, 1156, 856, 587, 1156, 590, 919, 863, 921, 1148, 864, 1156, 917, 864, 899, 1346, 833, 1291, 905, 1110, 906, 1352, 1077, 1352, 832, 1039, 833, 1292, 1033, 1295, 909, 859, 909, 588, 859, 596, 909, 859, 894, 1344, 826, 1285, 894, 556, 894, 1344, 515, 1344, 826, 520, 826, 1285, 517, 1285, 905, 1110, 901, 557, 1110, 557, 905, 1110, 906, 1352, 1077, 1352, 903, 560, 903, 1348, 512, 1348, 1077, 509, 1077, 1352, 511, 1347, 832, 1039, 827, 513, 1039, 519, 832, 1039, 833, 1292, 1033, 1295, 826, 521, 826, 1286, 518, 1286, 1033, 518, 1033, 1295, 517, 1289, 892, 356, 887, 1105, 356, 1107, 891, 357, 884, 555, 357, 557, 888, 1100, 883, 552, 1100, 552, 356, 1107, 356, 558, 1103, 554, 892, 356, 887, 1105, 356, 1107, 895, 357, 903, 1349, 349, 1347, 899, 1105, 897, 1346, 1068, 1346, 349, 1081, 349, 1347, 1071, 1345, 892, 357, 885, 555, 357, 556, 892, 357, 895, 1344, 348, 1344, 894, 568, 894, 1342, 521, 1342, 348, 511, 348, 1344, 523, 1340, 899, 1100, 892, 561, 1100, 560, 899, 1100, 896, 1345, 1066, 1345, 890, 565, 890, 1340, 518, 1340, 1066, 517, 1066, 1345, 517, 1341, 349, 1081, 350, 510, 1072, 510, 349, 1081, 349, 1347, 1071, 1345, 349, 511, 349, 1344, 521, 1342, 1068, 517, 1068, 1346, 519, 1342, 835, 346, 834, 1042, 348, 1034, 828, 350, 834, 508, 350, 519, 832, 1043, 829, 511, 1043, 511, 348, 1034, 348, 519, 1034, 517, 835, 346, 834, 1042, 348, 1034, 835, 349, 836, 1295, 344, 1294, 834, 1040, 837, 1293, 1035, 1297, 341, 1039, 344, 1297, 1040, 1288, 830, 351, 834, 511, 351, 518, 830, 351, 835, 1290, 346, 1292, 834, 525, 834, 1291, 519, 1291, 346, 517, 346, 1292, 535, 1288, 832, 1041, 831, 515, 1041, 520, 832, 1041, 835, 1295, 1034, 1296, 829, 523, 829, 1289, 519, 1289, 1034, 519, 1034, 1296, 521, 1291, 341, 1039, 344, 518, 1041, 515, 341, 1039, 344, 1297, 1040, 1288, 346, 517, 346, 1291, 530, 1290, 1042, 531, 1042, 1293, 530, 1289, 915, 860, 916, 649, 861, 637, 913, 862, 918, 1153, 863, 1163, 921, 645, 918, 1152, 645, 1153, 861, 637, 864, 1163, 644, 1163, 916, 857, 916, 647, 858, 636, 910, 859, 910, 584, 859, 584, 916, 647, 910, 584, 647, 585, 858, 636, 859, 585, 636, 585, 913, 866, 914, 1153, 866, 1156, 909, 858, 909, 578, 858, 583, 914, 1153, 913, 576, 1153, 575, 866, 1156, 859, 584, 1156, 589, 921, 645, 918, 1152, 645, 1153, 918, 640, 913, 578, 640, 580, 914, 1152, 913, 576, 1152, 575, 645, 1153, 640, 580, 1154, 576, 861, 637, 864, 1163, 644, 1163, 859, 636, 859, 586, 636, 586, 867, 1156, 858, 585, 1156, 589, 644, 1163, 638, 588, 1156, 590, 915, 860, 916, 649, 861, 637, 913, 862, 918, 1153, 863, 1163, 921, 645, 918, 1152, 645, 1153, 861, 637, 864, 1163, 644, 1163, 916, 864, 916, 650, 864, 643, 915, 864, 897, 1344, 829, 1285, 897, 618, 897, 1344, 574, 1347, 831, 564, 831, 1287, 564, 1288, 914, 862, 919, 1153, 862, 1163, 913, 864, 897, 1346, 834, 1288, 906, 1116, 908, 1355, 1082, 1355, 835, 1036, 834, 1288, 1031, 1293, 905, 615, 906, 1114, 615, 1115, 907, 620, 909, 1346, 568, 1346, 906, 1116, 908, 1355, 1082, 1356, 570, 1084, 567, 1346, 1083, 1357, 833, 562, 836, 1035, 565, 1036, 830, 564, 830, 1286, 563, 1287, 835, 1037, 834, 1291, 1031, 1296, 568, 1029, 567, 1294, 1031, 1296, 912, 864, 911, 649, 864, 643, 906, 859, 906, 592, 859, 590, 911, 649, 905, 593, 649, 591, 864, 643, 860, 592, 643, 591, 912, 864, 911, 649, 864, 643, 911, 864, 899, 1338, 824, 1282, 899, 618, 899, 1338, 573, 1338, 828, 564, 827, 1282, 559, 1283, 904, 857, 904, 592, 857, 591, 904, 857, 895, 1339, 824, 1285, 895, 561, 895, 1339, 511, 1339, 824, 524, 824, 1285, 518, 1285, 899, 618, 894, 560, 618, 562, 899, 618, 899, 1338, 573, 1338, 895, 561, 895, 1339, 511, 1339, 573, 510, 573, 1338, 511, 1341, 828, 564, 827, 524, 564, 524, 828, 564, 827, 1282, 559, 1283, 826, 524, 826, 1286, 520, 1286, 559, 520, 559, 1283, 520, 1286, 915, 866, 918, 1156, 866, 1155, 911, 856, 911, 578, 856, 585, 918, 1156, 915, 576, 1156, 575, 866, 1155, 856, 585, 1155, 590, 915, 866, 918, 1156, 866, 1155, 914, 869, 898, 1344, 832, 1292, 907, 1110, 909, 1352, 1080, 1352, 834, 1037, 832, 1292, 1032, 1295, 908, 864, 908, 591, 864, 598, 908, 864, 898, 1344, 829, 1278, 898, 559, 898, 1344, 511, 1344, 829, 525, 829, 1278, 521, 1278, 907, 1110, 902, 556, 1110, 558, 907, 1110, 909, 1352, 1080, 1352, 904, 559, 904, 1344, 510, 1344, 1080, 510, 1080, 1352, 510, 1345, 834, 1037, 826, 517, 1037, 521, 834, 1037, 832, 1292, 1032, 1295, 829, 525, 829, 1279, 521, 1279, 1032, 518, 1032, 1295, 517, 1287, 905, 615, 906, 1114, 615, 1115, 903, 612, 898, 557, 612, 558, 906, 1109, 900, 556, 1109, 556, 615, 1115, 612, 558, 1110, 556, 905, 615, 906, 1114, 615, 1115, 907, 620, 909, 1346, 568, 1346, 906, 1116, 908, 1355, 1082, 1356, 570, 1084, 567, 1346, 1083, 1357, 903, 617, 900, 559, 617, 561, 903, 617, 905, 1339, 567, 1340, 901, 559, 901, 1346, 510, 1346, 567, 510, 567, 1340, 510, 1347, 907, 1110, 902, 556, 1110, 557, 907, 1110, 909, 1351, 1080, 1352, 904, 559, 904, 1344, 509, 1344, 1080, 510, 1080, 1352, 510, 1345, 570, 1084, 569, 508, 1082, 512, 570, 1084, 567, 1346, 1083, 1357, 566, 510, 566, 1340, 510, 1348, 1084, 512, 1084, 1353, 511, 1346, 833, 562, 836, 1035, 565, 1036, 823, 560, 826, 518, 560, 518, 834, 1036, 828, 519, 1036, 519, 565, 1036, 569, 521, 1037, 518, 833, 562, 836, 1035, 565, 1036, 830, 564, 830, 1286, 563, 1287, 835, 1037, 834, 1291, 1031, 1296, 568, 1029, 567, 1294, 1031, 1296, 828, 564, 826, 526, 564, 526, 828, 564, 827, 1283, 559, 1283, 825, 526, 825, 1286, 520, 1286, 559, 520, 559, 1283, 520, 1286, 834, 1037, 828, 519, 1037, 521, 834, 1037, 834, 1295, 1031, 1295, 829, 528, 829, 1281, 522, 1281, 1031, 518, 1031, 1295, 521, 1287, 568, 1029, 567, 513, 1032, 517, 568, 1029, 567, 1294, 1031, 1296, 565, 514, 565, 1292, 515, 1291, 1031, 518, 1031, 1295, 521, 1287, 890, 354, 890, 601, 354, 600, 891, 356, 886, 1107, 356, 1107, 884, 601, 886, 1111, 601, 1110, 354, 600, 356, 1108, 601, 1111, 885, 354, 885, 597, 354, 597, 885, 355, 881, 553, 355, 555, 885, 604, 881, 549, 604, 553, 354, 597, 354, 555, 604, 555, 890, 357, 886, 1106, 357, 1108, 890, 356, 884, 554, 356, 557, 888, 1097, 883, 552, 1097, 552, 357, 1108, 356, 558, 1100, 555, 884, 599, 887, 1108, 599, 1107, 882, 600, 878, 551, 600, 552, 889, 1104, 880, 552, 1104, 552, 599, 1107, 600, 552, 1104, 552, 354, 600, 356, 1108, 601, 1111, 354, 597, 354, 555, 604, 555, 357, 1108, 356, 557, 1100, 554, 599, 1108, 600, 553, 1106, 553, 890, 354, 890, 601, 354, 600, 891, 356, 886, 1107, 356, 1107, 884, 601, 886, 1111, 601, 1110, 354, 600, 356, 1108, 601, 1111, 890, 356, 890, 601, 356, 602, 892, 357, 897, 1344, 347, 1344, 898, 621, 899, 1343, 585, 1344, 347, 569, 347, 1344, 584, 1342, 893, 355, 890, 1107, 355, 1107, 895, 359, 897, 1345, 349, 1347, 898, 1103, 896, 1342, 1072, 1342, 352, 1072, 350, 1347, 1075, 1341, 897, 615, 897, 1104, 615, 1104, 896, 619, 897, 1340, 588, 1341, 898, 1108, 898, 1342, 1073, 1342, 586, 1073, 588, 1341, 1074, 1344, 348, 570, 350, 1072, 570, 1074, 346, 569, 347, 1344, 583, 1343, 352, 1073, 349, 1347, 1075, 1341, 582, 1076, 585, 1340, 1076, 1343, 884, 356, 889, 605, 355, 604, 883, 356, 886, 552, 356, 554, 885, 607, 883, 548, 607, 551, 355, 604, 355, 555, 606, 553, 884, 356, 889, 605, 355, 604, 887, 357, 899, 1339, 348, 1339, 901, 618, 901, 1341, 585, 1341, 348, 570, 348, 1339, 586, 1340, 887, 356, 886, 554, 356, 555, 887, 356, 896, 1339, 347, 1340, 894, 569, 894, 1336, 519, 1336, 347, 513, 347, 1340, 521, 1335, 894, 617, 893, 565, 617, 567, 894, 617, 895, 1339, 584, 1339, 892, 568, 892, 1342, 521, 1342, 584, 522, 584, 1339, 522, 1342, 348, 570, 347, 514, 570, 512, 348, 570, 348, 1339, 586, 1340, 347, 515, 347, 1340, 521, 1335, 585, 522, 585, 1339, 522, 1341, 893, 356, 887, 1105, 356, 1107, 891, 357, 884, 555, 357, 557, 889, 1100, 883, 552, 1100, 552, 356, 1107, 357, 558, 1103, 554, 893, 356, 887, 1105, 356, 1107, 895, 357, 903, 1349, 349, 1347, 899, 1106, 897, 1345, 1068, 1346, 349, 1081, 349, 1347, 1071, 1345, 892, 357, 885, 555, 357, 556, 892, 357, 895, 1343, 349, 1344, 894, 568, 894, 1343, 521, 1343, 349, 511, 349, 1344, 523, 1340, 899, 1100, 892, 561, 1100, 561, 899, 1100, 896, 1343, 1066, 1344, 890, 565, 890, 1340, 517, 1340, 1066, 517, 1066, 1344, 517, 1340, 349, 1081, 350, 510, 1072, 510, 349, 1081, 349, 1347, 1071, 1345, 350, 511, 350, 1344, 521, 1342, 1068, 517, 1068, 1345, 519, 1342, 897, 613, 900, 1104, 613, 1103, 895, 613, 891, 560, 613, 560, 893, 1107, 888, 564, 1107, 564, 613, 1103, 613, 560, 1106, 565, 897, 613, 900, 1104, 613, 1103, 892, 619, 893, 1347, 588, 1347, 900, 1105, 899, 1348, 1071, 1348, 585, 1072, 588, 1347, 1072, 1348, 890, 617, 892, 563, 617, 563, 890, 617, 891, 1338, 583, 1339, 894, 564, 894, 1337, 519, 1337, 583, 518, 583, 1339, 521, 1338, 896, 1106, 889, 564, 1106, 564, 896, 1106, 894, 1345, 1069, 1345, 891, 565, 891, 1343, 518, 1343, 1069, 518, 1069, 1345, 518, 1343, 585, 1072, 582, 515, 1071, 517, 585, 1072, 588, 1347, 1072, 1348, 583, 517, 583, 1339, 520, 1338, 1070, 518, 1070, 1345, 519, 1343, 348, 570, 350, 1072, 570, 1074, 346, 569, 348, 510, 572, 511, 349, 1080, 348, 510, 1072, 511, 570, 1078, 570, 507, 1080, 506, 348, 570, 350, 1072, 570, 1074, 346, 569, 347, 1344, 583, 1343, 352, 1073, 349, 1347, 1075, 1341, 582, 1076, 585, 1340, 1076, 1343, 348, 570, 347, 512, 570, 511, 348, 570, 348, 1338, 585, 1340, 348, 513, 348, 1340, 520, 1335, 584, 521, 584, 1339, 521, 1341, 349, 1081, 350, 510, 1073, 511, 349, 1081, 349, 1347, 1070, 1346, 350, 512, 350, 1344, 521, 1341, 1069, 516, 1069, 1346, 519, 1342, 583, 1074, 581, 515, 1073, 516, 583, 1074, 588, 1346, 1074, 1347, 580, 518, 580, 1338, 520, 1337, 1072, 518, 1072, 1347, 518, 1344, 837, 349, 833, 558, 349, 567, 832, 347, 831, 1038, 347, 1035, 833, 556, 833, 1047, 555, 1047, 350, 568, 348, 1035, 567, 1034, 832, 347, 831, 555, 347, 566, 834, 349, 833, 508, 349, 522, 832, 558, 834, 508, 558, 508, 347, 566, 349, 521, 566, 521, 834, 345, 834, 1040, 349, 1032, 829, 349, 832, 508, 349, 516, 833, 1039, 829, 509, 1039, 511, 349, 1032, 349, 517, 1031, 517, 830, 556, 833, 1040, 558, 1040, 830, 550, 829, 508, 550, 508, 830, 1041, 833, 507, 1041, 512, 558, 1040, 559, 511, 1041, 512, 350, 568, 348, 1035, 567, 1034, 348, 565, 349, 517, 566, 515, 349, 1033, 349, 518, 1031, 517, 567, 1034, 564, 519, 1031, 516, 837, 349, 833, 558, 349, 567, 832, 347, 831, 1038, 347, 1035, 833, 556, 833, 1047, 555, 1047, 350, 568, 348, 1035, 567, 1034, 831, 351, 832, 558, 352, 569, 831, 352, 837, 1291, 346, 1299, 836, 567, 837, 1289, 565, 1290, 347, 571, 347, 1299, 573, 1295, 832, 347, 831, 1040, 347, 1035, 833, 351, 837, 1291, 346, 1298, 834, 1041, 832, 1290, 1036, 1293, 342, 1041, 345, 1298, 1040, 1294, 832, 562, 832, 1043, 569, 1043, 837, 566, 837, 1289, 565, 1289, 833, 1044, 836, 1297, 1039, 1299, 566, 1038, 567, 1290, 1039, 1299, 343, 574, 342, 1040, 569, 1038, 346, 574, 346, 1294, 566, 1288, 342, 1041, 345, 1298, 1040, 1293, 573, 1043, 572, 1286, 1045, 1289, 832, 351, 830, 557, 351, 569, 834, 352, 832, 511, 352, 520, 829, 559, 831, 509, 559, 508, 351, 569, 351, 520, 567, 520, 832, 351, 830, 557, 351, 569, 832, 352, 829, 1286, 345, 1291, 832, 568, 832, 1286, 563, 1287, 345, 573, 345, 1291, 572, 1293, 832, 353, 832, 510, 353, 519, 832, 353, 836, 1286, 345, 1296, 830, 519, 830, 1289, 517, 1289, 345, 514, 345, 1296, 534, 1293, 829, 564, 827, 523, 564, 523, 829, 564, 828, 1290, 563, 1289, 827, 522, 827, 1287, 521, 1287, 563, 522, 563, 1289, 521, 1287, 345, 573, 345, 515, 567, 517, 345, 573, 345, 1291, 572, 1293, 345, 514, 345, 1296, 534, 1293, 568, 532, 568, 1291, 533, 1292, 835, 345, 834, 1042, 349, 1034, 827, 350, 834, 508, 350, 518, 832, 1043, 829, 511, 1043, 511, 349, 1034, 349, 517, 1034, 517, 835, 345, 834, 1042, 349, 1034, 835, 349, 836, 1295, 345, 1293, 834, 1040, 837, 1293, 1035, 1297, 342, 1039, 344, 1298, 1039, 1288, 831, 352, 834, 511, 352, 519, 831, 352, 835, 1290, 346, 1292, 833, 524, 833, 1291, 518, 1291, 346, 519, 346, 1292, 535, 1287, 833, 1041, 831, 515, 1041, 520, 833, 1041, 835, 1295, 1034, 1297, 829, 523, 829, 1290, 519, 1290, 1034, 519, 1034, 1297, 521, 1291, 342, 1039, 345, 518, 1041, 514, 342, 1039, 344, 1298, 1039, 1288, 347, 515, 347, 1292, 530, 1290, 1041, 531, 1041, 1294, 531, 1290, 833, 561, 836, 1035, 565, 1036, 825, 558, 826, 519, 558, 519, 834, 1037, 828, 518, 1037, 519, 565, 1036, 568, 521, 1038, 518, 833, 561, 836, 1035, 565, 1036, 831, 566, 832, 1288, 565, 1289, 835, 1038, 835, 1292, 1032, 1297, 568, 1030, 567, 1296, 1032, 1297, 831, 564, 827, 526, 564, 526, 831, 564, 831, 1285, 560, 1286, 827, 526, 827, 1288, 520, 1288, 560, 520, 560, 1286, 520, 1288, 834, 1038, 828, 518, 1038, 520, 834, 1038, 834, 1296, 1034, 1296, 831, 527, 831, 1283, 521, 1283, 1034, 518, 1034, 1296, 521, 1289, 568, 1030, 567, 514, 1035, 518, 568, 1030, 567, 1296, 1032, 1297, 565, 516, 565, 1293, 517, 1293, 1034, 518, 1034, 1296, 521, 1289, 343, 574, 342, 1040, 569, 1038, 344, 571, 343, 517, 571, 515, 342, 1040, 345, 518, 1042, 514, 568, 1040, 567, 516, 1037, 511, 343, 574, 342, 1040, 569, 1038, 346, 574, 346, 1294, 566, 1288, 342, 1041, 345, 1298, 1040, 1293, 573, 1043, 572, 1286, 1045, 1289, 348, 573, 348, 514, 573, 514, 348, 573, 348, 1284, 570, 1288, 349, 517, 349, 1290, 530, 1282, 574, 532, 574, 1285, 531, 1289, 342, 1039, 345, 518, 1041, 514, 342, 1039, 344, 1297, 1039, 1288, 347, 515, 347, 1291, 531, 1290, 1041, 531, 1041, 1295, 531, 1290, 570, 1044, 568, 526, 1039, 533, 570, 1044, 571, 1291, 1043, 1286, 568, 531, 568, 1287, 531, 1285, 1038, 534, 1038, 1291, 532, 1286], [1390, 1342, 1379, 1380, 1346, 1364, 1393, 1338, 1393, 1393, 1339, 1339, 1379, 1380, 1379, 1380, 1380, 1379, 1346, 1364, 1341, 1340, 1364, 1361, 1396, 1351, 1376, 1376, 1358, 1366, 1393, 1345, 1398, 1398, 1345, 1350, 1367, 1367, 1370, 1370, 1367, 1369, 1356, 1366, 1350, 1353, 1360, 1358, 1391, 1335, 1391, 1391, 1336, 1335, 1394, 1341, 1393, 1393, 1341, 1353, 1395, 1396, 1394, 1394, 1397, 1395, 1335, 1335, 1340, 1354, 1347, 1354, 1369, 1368, 1369, 1370, 1368, 1368, 1367, 1367, 1369, 1369, 1367, 1370, 1368, 1367, 1368, 1368, 1367, 1368, 1368, 1367, 1367, 1370, 1365, 1369, 1346, 1364, 1341, 1340, 1364, 1361, 1358, 1366, 1350, 1355, 1361, 1358, 1338, 1338, 1343, 1357, 1350, 1357, 1366, 1363, 1360, 1358, 1359, 1359, 1384, 1344, 1374, 1372, 1346, 1363, 1392, 1336, 1391, 1391, 1339, 1338, 1374, 1372, 1377, 1377, 1372, 1374, 1346, 1363, 1340, 1340, 1363, 1362, 1386, 1346, 1374, 1375, 1348, 1357, 1388, 1341, 1388, 1388, 1341, 1341, 1374, 1375, 1371, 1371, 1375, 1370, 1348, 1357, 1343, 1343, 1357, 1359, 1387, 1339, 1386, 1387, 1341, 1342, 1392, 1344, 1392, 1392, 1344, 1344, 1386, 1387, 1392, 1392, 1387, 1392, 1341, 1342, 1344, 1344, 1342, 1344, 1374, 1372, 1377, 1377, 1372, 1374, 1374, 1375, 1369, 1369, 1375, 1369, 1371, 1372, 1372, 1372, 1372, 1374, 1372, 1374, 1374, 1369, 1370, 1371, 1346, 1363, 1340, 1340, 1363, 1362, 1348, 1357, 1343, 1343, 1357, 1359, 1343, 1344, 1346, 1346, 1344, 1346, 1363, 1362, 1357, 1359, 1364, 1360, 1394, 1348, 1377, 1374, 1351, 1369, 1395, 1345, 1392, 1393, 1345, 1348, 1368, 1366, 1367, 1367, 1366, 1366, 1350, 1369, 1350, 1350, 1363, 1358, 1390, 1339, 1373, 1373, 1341, 1359, 1391, 1337, 1391, 1391, 1337, 1337, 1373, 1373, 1371, 1371, 1373, 1369, 1341, 1359, 1338, 1338, 1359, 1366, 1392, 1339, 1390, 1389, 1340, 1350, 1383, 1335, 1383, 1383, 1335, 1335, 1390, 1389, 1390, 1390, 1389, 1390, 1340, 1350, 1335, 1335, 1350, 1346, 1368, 1366, 1367, 1367, 1366, 1366, 1363, 1362, 1363, 1363, 1362, 1363, 1370, 1370, 1365, 1365, 1370, 1365, 1366, 1366, 1362, 1362, 1369, 1365, 1350, 1369, 1350, 1350, 1363, 1358, 1341, 1360, 1338, 1338, 1360, 1365, 1341, 1350, 1339, 1339, 1350, 1350, 1363, 1358, 1356, 1359, 1357, 1352, 1386, 1342, 1386, 1385, 1343, 1344, 1390, 1343, 1399, 1399, 1343, 1352, 1390, 1391, 1398, 1399, 1391, 1398, 1343, 1344, 1345, 1353, 1350, 1352, 1383, 1337, 1383, 1384, 1337, 1337, 1386, 1339, 1386, 1386, 1339, 1339, 1383, 1384, 1387, 1387, 1384, 1389, 1337, 1337, 1339, 1339, 1337, 1339, 1397, 1342, 1395, 1396, 1341, 1351, 1383, 1337, 1383, 1383, 1337, 1337, 1395, 1396, 1390, 1390, 1396, 1390, 1341, 1351, 1337, 1337, 1351, 1350, 1390, 1391, 1398, 1399, 1391, 1398, 1390, 1389, 1385, 1385, 1389, 1386, 1395, 1396, 1390, 1390, 1396, 1390, 1391, 1398, 1389, 1386, 1397, 1392, 1343, 1344, 1345, 1353, 1350, 1352, 1337, 1337, 1339, 1339, 1337, 1339, 1342, 1350, 1338, 1338, 1350, 1352, 1350, 1352, 1345, 1347, 1350, 1354, 1369, 1368, 1369, 1370, 1368, 1368, 1367, 1367, 1369, 1369, 1367, 1370, 1368, 1367, 1368, 1368, 1367, 1368, 1368, 1367, 1367, 1370, 1365, 1369, 1364, 1362, 1363, 1364, 1362, 1365, 1360, 1359, 1356, 1356, 1359, 1356, 1361, 1361, 1360, 1360, 1361, 1361, 1362, 1365, 1359, 1356, 1361, 1359, 1369, 1366, 1367, 1367, 1367, 1366, 1363, 1362, 1363, 1363, 1362, 1363, 1369, 1369, 1365, 1365, 1369, 1365, 1367, 1366, 1362, 1362, 1369, 1365, 1363, 1362, 1366, 1366, 1362, 1367, 1359, 1361, 1363, 1363, 1361, 1364, 1367, 1367, 1363, 1363, 1367, 1364, 1362, 1367, 1361, 1362, 1367, 1364, 1368, 1367, 1367, 1370, 1365, 1369, 1362, 1364, 1359, 1356, 1361, 1359, 1366, 1366, 1362, 1362, 1369, 1365, 1362, 1367, 1361, 1361, 1365, 1363, 1346, 1364, 1341, 1340, 1364, 1361, 1358, 1366, 1350, 1355, 1361, 1358, 1338, 1338, 1343, 1357, 1350, 1357, 1366, 1363, 1360, 1358, 1359, 1359, 1345, 1363, 1340, 1340, 1363, 1362, 1348, 1357, 1343, 1343, 1357, 1359, 1343, 1344, 1345, 1345, 1344, 1345, 1363, 1362, 1357, 1359, 1364, 1360, 1351, 1369, 1350, 1351, 1363, 1358, 1340, 1359, 1339, 1339, 1359, 1365, 1341, 1351, 1339, 1339, 1351, 1350, 1363, 1358, 1356, 1359, 1357, 1352, 1347, 1348, 1346, 1354, 1352, 1353, 1341, 1341, 1341, 1341, 1341, 1341, 1346, 1351, 1340, 1340, 1351, 1356, 1352, 1353, 1347, 1349, 1351, 1358, 1366, 1363, 1360, 1358, 1359, 1359, 1359, 1360, 1355, 1351, 1358, 1353, 1363, 1358, 1356, 1358, 1357, 1352, 1360, 1357, 1357, 1355, 1355, 1349, 1390, 1342, 1379, 1380, 1346, 1364, 1393, 1338, 1393, 1393, 1339, 1339, 1379, 1380, 1379, 1380, 1380, 1379, 1346, 1364, 1341, 1340, 1364, 1361, 1396, 1351, 1376, 1376, 1358, 1366, 1393, 1345, 1398, 1398, 1345, 1350, 1367, 1367, 1370, 1370, 1367, 1369, 1356, 1366, 1350, 1353, 1360, 1358, 1391, 1335, 1391, 1391, 1336, 1335, 1394, 1341, 1393, 1393, 1341, 1353, 1395, 1396, 1394, 1394, 1397, 1395, 1335, 1335, 1340, 1354, 1347, 1354, 1369, 1368, 1369, 1370, 1368, 1368, 1367, 1367, 1369, 1369, 1367, 1370, 1368, 1367, 1368, 1368, 1367, 1368, 1368, 1367, 1367, 1370, 1365, 1369, 1346, 1364, 1341, 1340, 1364, 1361, 1358, 1366, 1350, 1355, 1361, 1358, 1338, 1338, 1343, 1357, 1350, 1357, 1366, 1363, 1360, 1358, 1359, 1359, 1390, 1346, 1387, 1386, 1350, 1367, 1395, 1341, 1394, 1394, 1343, 1343, 1387, 1386, 1379, 1379, 1386, 1379, 1350, 1367, 1346, 1346, 1367, 1366, 1390, 1349, 1387, 1386, 1352, 1371, 1412, 1393, 1385, 1332, 1307, 1307, 1372, 1374, 1371, 1331, 1320, 1329, 1296, 1289, 1309, 1309, 1280, 1292, 1410, 1395, 1412, 1413, 1395, 1394, 1415, 1399, 1386, 1331, 1298, 1296, 1388, 1389, 1387, 1332, 1330, 1332, 1297, 1297, 1298, 1296, 1295, 1296, 1372, 1373, 1371, 1373, 1373, 1373, 1372, 1374, 1371, 1331, 1320, 1329, 1372, 1375, 1372, 1324, 1322, 1324, 1319, 1313, 1320, 1329, 1324, 1325, 1295, 1288, 1291, 1292, 1287, 1281, 1297, 1289, 1310, 1309, 1280, 1292, 1299, 1299, 1301, 1300, 1299, 1300, 1276, 1277, 1280, 1292, 1288, 1288, 1398, 1349, 1381, 1380, 1356, 1368, 1390, 1346, 1398, 1398, 1346, 1346, 1371, 1371, 1370, 1370, 1370, 1369, 1355, 1368, 1350, 1349, 1361, 1359, 1400, 1353, 1383, 1383, 1360, 1372, 1416, 1395, 1390, 1338, 1305, 1302, 1376, 1376, 1372, 1328, 1323, 1326, 1289, 1288, 1307, 1305, 1279, 1292, 1403, 1383, 1408, 1407, 1384, 1393, 1410, 1391, 1386, 1340, 1301, 1298, 1385, 1385, 1390, 1343, 1344, 1344, 1304, 1296, 1300, 1298, 1299, 1296, 1364, 1366, 1363, 1362, 1366, 1366, 1364, 1367, 1364, 1319, 1310, 1318, 1367, 1367, 1366, 1325, 1328, 1325, 1315, 1312, 1310, 1319, 1327, 1324, 1287, 1290, 1287, 1284, 1286, 1278, 1289, 1290, 1307, 1303, 1280, 1291, 1307, 1298, 1303, 1301, 1300, 1298, 1276, 1270, 1280, 1292, 1284, 1281, 1410, 1381, 1410, 1414, 1382, 1381, 1412, 1378, 1406, 1406, 1378, 1389, 1413, 1414, 1406, 1406, 1416, 1406, 1382, 1381, 1378, 1389, 1385, 1389, 1415, 1389, 1416, 1415, 1393, 1393, 1418, 1390, 1388, 1338, 1299, 1299, 1389, 1388, 1388, 1338, 1336, 1339, 1301, 1301, 1302, 1298, 1300, 1298, 1412, 1382, 1408, 1408, 1381, 1391, 1415, 1390, 1391, 1342, 1299, 1297, 1381, 1384, 1390, 1344, 1343, 1344, 1301, 1297, 1299, 1297, 1297, 1301, 1382, 1383, 1380, 1381, 1383, 1383, 1389, 1389, 1389, 1337, 1337, 1339, 1382, 1383, 1390, 1344, 1343, 1344, 1338, 1340, 1337, 1338, 1342, 1346, 1303, 1301, 1299, 1296, 1299, 1296, 1300, 1299, 1300, 1300, 1301, 1300, 1302, 1298, 1299, 1296, 1297, 1301, 1298, 1297, 1298, 1297, 1297, 1301, 1362, 1362, 1361, 1362, 1362, 1360, 1361, 1364, 1358, 1357, 1364, 1362, 1357, 1358, 1363, 1364, 1358, 1364, 1362, 1360, 1364, 1362, 1358, 1364, 1363, 1363, 1363, 1363, 1363, 1364, 1362, 1363, 1357, 1319, 1307, 1319, 1364, 1365, 1364, 1319, 1320, 1319, 1306, 1308, 1307, 1319, 1322, 1321, 1365, 1366, 1363, 1362, 1366, 1366, 1364, 1366, 1364, 1319, 1310, 1318, 1367, 1367, 1366, 1325, 1328, 1325, 1315, 1313, 1310, 1319, 1327, 1324, 1359, 1360, 1357, 1357, 1360, 1357, 1367, 1366, 1367, 1319, 1320, 1320, 1359, 1359, 1362, 1319, 1320, 1319, 1320, 1322, 1321, 1321, 1321, 1320, 1309, 1307, 1315, 1313, 1313, 1309, 1308, 1309, 1308, 1319, 1323, 1322, 1316, 1313, 1310, 1319, 1327, 1324, 1320, 1320, 1321, 1321, 1318, 1320, 1293, 1282, 1286, 1286, 1282, 1279, 1285, 1287, 1286, 1284, 1279, 1277, 1281, 1281, 1285, 1290, 1278, 1290, 1278, 1277, 1280, 1278, 1273, 1274, 1295, 1288, 1291, 1292, 1287, 1279, 1297, 1289, 1307, 1308, 1280, 1292, 1300, 1300, 1302, 1299, 1298, 1299, 1276, 1276, 1280, 1292, 1288, 1287, 1286, 1290, 1287, 1284, 1285, 1278, 1289, 1289, 1308, 1305, 1279, 1291, 1306, 1299, 1303, 1301, 1300, 1297, 1276, 1270, 1282, 1289, 1285, 1281, 1306, 1304, 1301, 1299, 1303, 1298, 1305, 1304, 1305, 1302, 1303, 1302, 1305, 1302, 1301, 1299, 1299, 1302, 1301, 1298, 1300, 1300, 1299, 1302, 1272, 1270, 1274, 1269, 1268, 1268, 1276, 1271, 1277, 1293, 1282, 1285, 1276, 1270, 1282, 1289, 1285, 1282, 1283, 1288, 1282, 1284, 1288, 1286, 1388, 1343, 1372, 1369, 1348, 1363, 1391, 1343, 1392, 1393, 1344, 1343, 1372, 1369, 1379, 1380, 1369, 1378, 1348, 1363, 1345, 1345, 1363, 1363, 1390, 1345, 1374, 1375, 1348, 1359, 1391, 1344, 1391, 1391, 1344, 1344, 1374, 1375, 1371, 1371, 1375, 1371, 1348, 1359, 1347, 1347, 1359, 1361, 1387, 1340, 1388, 1386, 1343, 1343, 1393, 1343, 1393, 1393, 1343, 1343, 1388, 1386, 1393, 1393, 1386, 1391, 1343, 1343, 1345, 1345, 1343, 1345, 1372, 1369, 1379, 1380, 1369, 1378, 1374, 1375, 1372, 1372, 1375, 1371, 1374, 1376, 1371, 1371, 1376, 1371, 1369, 1378, 1375, 1371, 1375, 1370, 1348, 1363, 1345, 1345, 1363, 1363, 1348, 1359, 1348, 1348, 1359, 1360, 1344, 1344, 1346, 1346, 1344, 1346, 1363, 1363, 1359, 1361, 1361, 1360, 1388, 1343, 1372, 1369, 1348, 1363, 1391, 1343, 1392, 1393, 1344, 1343, 1372, 1369, 1379, 1380, 1369, 1378, 1348, 1363, 1345, 1345, 1363, 1363, 1389, 1346, 1376, 1373, 1348, 1365, 1409, 1394, 1381, 1329, 1295, 1293, 1365, 1365, 1369, 1328, 1316, 1328, 1284, 1285, 1297, 1297, 1273, 1284, 1405, 1385, 1405, 1407, 1387, 1387, 1407, 1387, 1379, 1333, 1295, 1292, 1377, 1376, 1379, 1334, 1332, 1333, 1295, 1296, 1298, 1292, 1293, 1292, 1365, 1365, 1367, 1368, 1365, 1368, 1365, 1364, 1369, 1328, 1316, 1328, 1373, 1373, 1373, 1330, 1328, 1330, 1316, 1318, 1316, 1328, 1327, 1331, 1283, 1284, 1286, 1286, 1284, 1279, 1285, 1284, 1297, 1297, 1273, 1284, 1298, 1298, 1301, 1294, 1295, 1294, 1272, 1271, 1273, 1284, 1282, 1283, 1393, 1346, 1376, 1377, 1349, 1359, 1390, 1343, 1390, 1390, 1343, 1343, 1376, 1377, 1375, 1375, 1377, 1375, 1349, 1359, 1346, 1346, 1359, 1363, 1393, 1346, 1376, 1377, 1349, 1359, 1407, 1389, 1378, 1327, 1297, 1288, 1365, 1368, 1371, 1330, 1317, 1328, 1283, 1284, 1296, 1290, 1271, 1283, 1408, 1384, 1408, 1408, 1384, 1384, 1408, 1384, 1379, 1332, 1292, 1293, 1379, 1379, 1379, 1332, 1332, 1332, 1292, 1292, 1292, 1293, 1293, 1293, 1365, 1368, 1364, 1364, 1368, 1365, 1365, 1368, 1371, 1330, 1317, 1328, 1365, 1365, 1365, 1322, 1322, 1322, 1317, 1318, 1317, 1328, 1323, 1323, 1283, 1284, 1284, 1284, 1284, 1274, 1283, 1284, 1296, 1290, 1271, 1283, 1294, 1294, 1294, 1298, 1298, 1298, 1271, 1265, 1271, 1283, 1286, 1286, 1406, 1387, 1406, 1407, 1388, 1388, 1408, 1391, 1408, 1408, 1391, 1391, 1406, 1407, 1408, 1408, 1407, 1408, 1388, 1388, 1392, 1392, 1388, 1393, 1406, 1387, 1406, 1407, 1388, 1388, 1404, 1389, 1379, 1332, 1295, 1290, 1380, 1381, 1379, 1332, 1331, 1332, 1295, 1296, 1297, 1290, 1289, 1290, 1407, 1393, 1407, 1407, 1393, 1393, 1407, 1393, 1383, 1331, 1296, 1295, 1383, 1383, 1383, 1331, 1331, 1331, 1296, 1296, 1296, 1295, 1295, 1295, 1380, 1381, 1382, 1382, 1381, 1383, 1380, 1381, 1379, 1332, 1331, 1332, 1382, 1382, 1382, 1331, 1331, 1331, 1331, 1331, 1331, 1332, 1331, 1331, 1295, 1296, 1296, 1296, 1296, 1297, 1295, 1296, 1297, 1290, 1289, 1290, 1297, 1297, 1297, 1293, 1293, 1293, 1289, 1290, 1289, 1290, 1293, 1293, 1365, 1365, 1367, 1368, 1365, 1368, 1366, 1369, 1367, 1367, 1369, 1366, 1364, 1364, 1367, 1367, 1364, 1367, 1365, 1368, 1369, 1366, 1365, 1368, 1365, 1365, 1367, 1368, 1365, 1368, 1365, 1364, 1369, 1328, 1316, 1328, 1373, 1373, 1373, 1330, 1328, 1330, 1316, 1318, 1316, 1328, 1327, 1331, 1366, 1367, 1364, 1364, 1367, 1365, 1366, 1367, 1371, 1330, 1317, 1329, 1364, 1364, 1364, 1322, 1322, 1322, 1317, 1318, 1317, 1329, 1323, 1323, 1371, 1371, 1366, 1366, 1371, 1366, 1371, 1371, 1370, 1328, 1327, 1328, 1368, 1368, 1368, 1328, 1328, 1328, 1327, 1326, 1327, 1328, 1328, 1328, 1316, 1318, 1318, 1316, 1313, 1316, 1316, 1318, 1316, 1328, 1327, 1331, 1317, 1318, 1317, 1330, 1324, 1324, 1326, 1324, 1326, 1327, 1325, 1325, 1283, 1284, 1286, 1286, 1284, 1279, 1281, 1282, 1284, 1284, 1282, 1275, 1285, 1285, 1281, 1281, 1285, 1284, 1284, 1279, 1282, 1275, 1281, 1277, 1283, 1284, 1286, 1286, 1284, 1279, 1285, 1284, 1297, 1297, 1273, 1284, 1298, 1298, 1301, 1294, 1295, 1294, 1272, 1271, 1273, 1284, 1282, 1283, 1283, 1284, 1285, 1285, 1284, 1276, 1283, 1284, 1295, 1290, 1272, 1283, 1294, 1294, 1294, 1297, 1297, 1297, 1272, 1265, 1272, 1283, 1285, 1285, 1298, 1299, 1297, 1297, 1299, 1297, 1298, 1299, 1300, 1293, 1292, 1293, 1297, 1297, 1297, 1296, 1296, 1296, 1292, 1293, 1292, 1293, 1296, 1296, 1272, 1271, 1273, 1263, 1271, 1266, 1272, 1271, 1273, 1284, 1282, 1283, 1272, 1265, 1272, 1282, 1286, 1286, 1284, 1277, 1284, 1287, 1280, 1280, 1396, 1347, 1378, 1375, 1351, 1370, 1395, 1347, 1395, 1396, 1347, 1349, 1368, 1367, 1367, 1367, 1367, 1368, 1350, 1370, 1351, 1352, 1364, 1357, 1388, 1341, 1378, 1376, 1343, 1360, 1391, 1339, 1391, 1391, 1339, 1339, 1378, 1376, 1373, 1373, 1376, 1372, 1343, 1360, 1340, 1340, 1360, 1366, 1394, 1341, 1393, 1393, 1341, 1354, 1385, 1338, 1385, 1385, 1338, 1338, 1393, 1393, 1392, 1392, 1393, 1392, 1341, 1354, 1338, 1338, 1354, 1345, 1368, 1367, 1367, 1367, 1367, 1368, 1364, 1363, 1363, 1363, 1363, 1363, 1369, 1369, 1365, 1365, 1369, 1365, 1367, 1368, 1363, 1362, 1370, 1366, 1350, 1370, 1351, 1352, 1364, 1357, 1343, 1360, 1340, 1340, 1360, 1365, 1343, 1353, 1342, 1342, 1353, 1348, 1364, 1357, 1357, 1361, 1359, 1353, 1396, 1347, 1378, 1375, 1351, 1370, 1395, 1347, 1395, 1396, 1347, 1349, 1368, 1367, 1367, 1367, 1367, 1368, 1350, 1370, 1351, 1352, 1364, 1357, 1398, 1346, 1379, 1380, 1350, 1371, 1416, 1400, 1397, 1341, 1304, 1303, 1378, 1377, 1377, 1335, 1326, 1333, 1294, 1286, 1306, 1306, 1274, 1294, 1405, 1383, 1407, 1407, 1384, 1391, 1410, 1395, 1392, 1338, 1305, 1302, 1390, 1389, 1393, 1342, 1341, 1342, 1300, 1297, 1305, 1302, 1301, 1299, 1368, 1368, 1362, 1362, 1369, 1364, 1368, 1368, 1368, 1324, 1317, 1324, 1368, 1368, 1370, 1329, 1327, 1329, 1318, 1314, 1317, 1324, 1328, 1328, 1293, 1286, 1290, 1292, 1283, 1273, 1295, 1287, 1305, 1307, 1275, 1293, 1304, 1299, 1308, 1305, 1304, 1302, 1271, 1272, 1278, 1285, 1286, 1288, 1390, 1347, 1378, 1378, 1349, 1361, 1394, 1340, 1394, 1394, 1340, 1340, 1378, 1378, 1373, 1373, 1378, 1373, 1349, 1361, 1342, 1342, 1361, 1367, 1390, 1347, 1378, 1378, 1349, 1361, 1408, 1391, 1383, 1334, 1302, 1296, 1372, 1373, 1372, 1330, 1319, 1329, 1289, 1281, 1304, 1300, 1272, 1289, 1410, 1388, 1410, 1410, 1388, 1388, 1410, 1388, 1379, 1330, 1298, 1295, 1379, 1379, 1379, 1330, 1330, 1330, 1298, 1298, 1298, 1295, 1295, 1295, 1372, 1373, 1366, 1366, 1373, 1367, 1372, 1373, 1372, 1330, 1319, 1329, 1367, 1367, 1367, 1323, 1323, 1323, 1319, 1318, 1319, 1329, 1322, 1322, 1289, 1281, 1286, 1286, 1281, 1274, 1289, 1281, 1304, 1300, 1272, 1289, 1299, 1299, 1299, 1296, 1296, 1296, 1272, 1265, 1272, 1289, 1282, 1282, 1411, 1380, 1411, 1412, 1380, 1392, 1406, 1377, 1406, 1406, 1377, 1377, 1411, 1412, 1403, 1403, 1412, 1404, 1380, 1392, 1377, 1377, 1392, 1381, 1411, 1380, 1411, 1412, 1380, 1392, 1415, 1389, 1390, 1338, 1301, 1293, 1384, 1384, 1392, 1342, 1342, 1341, 1297, 1294, 1300, 1293, 1293, 1300, 1410, 1385, 1410, 1410, 1385, 1385, 1410, 1385, 1386, 1333, 1294, 1292, 1386, 1386, 1386, 1333, 1333, 1333, 1294, 1294, 1294, 1292, 1292, 1292, 1384, 1384, 1379, 1379, 1384, 1379, 1384, 1384, 1392, 1342, 1342, 1341, 1384, 1384, 1384, 1335, 1335, 1335, 1342, 1337, 1342, 1341, 1335, 1335, 1297, 1294, 1293, 1293, 1294, 1291, 1297, 1294, 1300, 1293, 1293, 1300, 1294, 1294, 1294, 1291, 1291, 1291, 1293, 1287, 1293, 1300, 1290, 1290, 1368, 1368, 1362, 1362, 1369, 1364, 1363, 1363, 1359, 1359, 1363, 1359, 1363, 1363, 1363, 1363, 1363, 1363, 1369, 1364, 1363, 1359, 1366, 1364, 1368, 1368, 1362, 1362, 1369, 1364, 1368, 1368, 1368, 1324, 1317, 1324, 1368, 1368, 1370, 1329, 1327, 1329, 1318, 1314, 1317, 1324, 1328, 1328, 1362, 1363, 1358, 1358, 1363, 1359, 1362, 1363, 1359, 1319, 1312, 1319, 1361, 1361, 1361, 1318, 1318, 1318, 1312, 1309, 1312, 1319, 1319, 1319, 1366, 1366, 1361, 1361, 1366, 1361, 1366, 1366, 1365, 1324, 1323, 1324, 1361, 1361, 1361, 1316, 1316, 1316, 1323, 1318, 1323, 1324, 1316, 1316, 1318, 1314, 1309, 1310, 1310, 1307, 1318, 1314, 1317, 1324, 1328, 1328, 1313, 1310, 1313, 1319, 1319, 1319, 1323, 1318, 1323, 1323, 1313, 1313, 1293, 1286, 1290, 1292, 1283, 1273, 1292, 1277, 1284, 1284, 1277, 1276, 1284, 1287, 1277, 1277, 1287, 1279, 1283, 1273, 1274, 1273, 1274, 1272, 1293, 1286, 1290, 1292, 1283, 1273, 1295, 1287, 1305, 1307, 1275, 1293, 1304, 1299, 1308, 1305, 1304, 1302, 1271, 1272, 1278, 1285, 1286, 1288, 1290, 1279, 1286, 1286, 1279, 1275, 1290, 1279, 1302, 1299, 1271, 1290, 1298, 1298, 1298, 1296, 1296, 1296, 1271, 1265, 1271, 1290, 1284, 1284, 1302, 1296, 1296, 1296, 1296, 1294, 1302, 1296, 1301, 1295, 1295, 1302, 1298, 1298, 1298, 1295, 1295, 1295, 1295, 1289, 1295, 1302, 1292, 1292, 1271, 1272, 1264, 1265, 1268, 1270, 1271, 1272, 1278, 1285, 1286, 1288, 1270, 1265, 1270, 1281, 1280, 1280, 1280, 1280, 1280, 1278, 1276, 1276, 1409, 1382, 1408, 1409, 1382, 1382, 1403, 1381, 1404, 1406, 1381, 1389, 1408, 1408, 1404, 1404, 1409, 1405, 1381, 1381, 1382, 1389, 1382, 1389, 1394, 1376, 1395, 1397, 1376, 1375, 1398, 1376, 1398, 1398, 1376, 1376, 1395, 1397, 1398, 1398, 1397, 1400, 1376, 1375, 1376, 1376, 1375, 1376, 1407, 1381, 1410, 1410, 1382, 1389, 1402, 1371, 1402, 1402, 1371, 1371, 1410, 1410, 1402, 1402, 1410, 1401, 1382, 1389, 1373, 1373, 1389, 1379, 1408, 1408, 1404, 1404, 1409, 1405, 1402, 1402, 1399, 1399, 1402, 1400, 1411, 1411, 1401, 1401, 1411, 1402, 1409, 1405, 1402, 1401, 1410, 1401, 1381, 1381, 1382, 1389, 1382, 1389, 1376, 1375, 1377, 1377, 1375, 1377, 1384, 1389, 1372, 1372, 1389, 1378, 1382, 1389, 1382, 1381, 1388, 1379, 1409, 1382, 1408, 1409, 1382, 1382, 1403, 1381, 1404, 1406, 1381, 1389, 1408, 1408, 1404, 1404, 1409, 1405, 1381, 1381, 1382, 1389, 1382, 1389, 1406, 1389, 1406, 1408, 1390, 1390, 1410, 1392, 1386, 1336, 1302, 1301, 1387, 1387, 1386, 1336, 1335, 1336, 1302, 1302, 1301, 1301, 1303, 1301, 1405, 1385, 1407, 1408, 1385, 1392, 1408, 1395, 1383, 1337, 1301, 1296, 1382, 1382, 1390, 1341, 1339, 1341, 1302, 1295, 1301, 1295, 1295, 1301, 1380, 1383, 1383, 1382, 1383, 1382, 1385, 1386, 1387, 1336, 1337, 1337, 1382, 1382, 1390, 1341, 1339, 1341, 1340, 1338, 1337, 1338, 1339, 1342, 1304, 1303, 1300, 1297, 1302, 1296, 1302, 1302, 1301, 1301, 1303, 1301, 1301, 1295, 1301, 1296, 1298, 1301, 1297, 1299, 1299, 1299, 1297, 1301, 1404, 1377, 1404, 1405, 1379, 1379, 1408, 1388, 1408, 1408, 1388, 1388, 1404, 1405, 1409, 1409, 1405, 1408, 1379, 1379, 1388, 1388, 1379, 1388, 1404, 1377, 1404, 1405, 1379, 1379, 1410, 1379, 1378, 1330, 1290, 1293, 1378, 1380, 1378, 1330, 1329, 1330, 1293, 1293, 1291, 1294, 1290, 1293, 1410, 1390, 1410, 1410, 1390, 1390, 1410, 1390, 1375, 1329, 1289, 1295, 1375, 1375, 1375, 1329, 1329, 1329, 1289, 1289, 1289, 1295, 1295, 1295, 1378, 1380, 1373, 1373, 1380, 1374, 1378, 1380, 1378, 1330, 1329, 1330, 1375, 1375, 1375, 1328, 1328, 1328, 1329, 1328, 1329, 1330, 1329, 1329, 1293, 1293, 1285, 1285, 1293, 1286, 1293, 1293, 1291, 1294, 1290, 1293, 1289, 1289, 1289, 1295, 1295, 1295, 1290, 1292, 1290, 1293, 1294, 1294, 1407, 1382, 1413, 1412, 1383, 1389, 1403, 1374, 1403, 1403, 1374, 1374, 1413, 1412, 1403, 1403, 1412, 1403, 1383, 1389, 1374, 1374, 1389, 1382, 1407, 1382, 1413, 1412, 1383, 1389, 1413, 1391, 1386, 1336, 1294, 1301, 1383, 1383, 1389, 1340, 1339, 1340, 1300, 1289, 1295, 1300, 1297, 1300, 1410, 1383, 1410, 1410, 1383, 1383, 1410, 1383, 1379, 1336, 1292, 1294, 1379, 1379, 1379, 1336, 1336, 1336, 1292, 1292, 1292, 1294, 1294, 1294, 1383, 1383, 1375, 1375, 1383, 1376, 1383, 1383, 1389, 1340, 1339, 1340, 1377, 1377, 1377, 1337, 1337, 1337, 1339, 1339, 1339, 1340, 1338, 1338, 1300, 1289, 1293, 1293, 1289, 1288, 1300, 1289, 1295, 1300, 1297, 1300, 1291, 1291, 1291, 1293, 1293, 1293, 1297, 1292, 1297, 1300, 1295, 1295, 1380, 1383, 1383, 1382, 1383, 1382, 1375, 1374, 1378, 1378, 1374, 1376, 1384, 1383, 1374, 1374, 1383, 1375, 1383, 1382, 1374, 1376, 1383, 1374, 1380, 1383, 1383, 1382, 1383, 1382, 1385, 1386, 1387, 1336, 1337, 1337, 1382, 1382, 1390, 1341, 1339, 1341, 1340, 1338, 1337, 1338, 1339, 1342, 1377, 1378, 1374, 1374, 1378, 1376, 1377, 1378, 1378, 1335, 1335, 1336, 1377, 1377, 1377, 1334, 1334, 1334, 1335, 1333, 1335, 1336, 1333, 1333, 1383, 1383, 1375, 1375, 1383, 1377, 1383, 1383, 1390, 1340, 1340, 1340, 1378, 1378, 1378, 1337, 1337, 1337, 1340, 1338, 1340, 1340, 1338, 1338, 1340, 1338, 1335, 1336, 1340, 1339, 1340, 1338, 1337, 1338, 1339, 1342, 1335, 1332, 1335, 1336, 1333, 1333, 1340, 1338, 1340, 1340, 1340, 1340, 1304, 1303, 1300, 1297, 1302, 1296, 1296, 1296, 1291, 1291, 1296, 1291, 1296, 1287, 1293, 1293, 1287, 1288, 1302, 1296, 1295, 1287, 1286, 1288, 1304, 1303, 1300, 1297, 1302, 1296, 1302, 1302, 1301, 1301, 1303, 1301, 1301, 1295, 1301, 1296, 1298, 1301, 1297, 1299, 1299, 1299, 1297, 1301, 1292, 1292, 1285, 1285, 1292, 1286, 1292, 1292, 1290, 1294, 1290, 1293, 1288, 1288, 1288, 1295, 1295, 1295, 1290, 1292, 1290, 1293, 1294, 1294, 1298, 1287, 1293, 1293, 1287, 1289, 1298, 1287, 1294, 1299, 1297, 1299, 1294, 1294, 1294, 1293, 1293, 1293, 1297, 1293, 1297, 1299, 1295, 1295, 1297, 1299, 1291, 1286, 1296, 1292, 1297, 1299, 1299, 1299, 1297, 1301, 1288, 1285, 1288, 1288, 1286, 1286, 1297, 1293, 1297, 1299, 1295, 1295, 1362, 1362, 1361, 1362, 1362, 1360, 1361, 1364, 1358, 1357, 1364, 1362, 1357, 1358, 1363, 1364, 1358, 1364, 1362, 1360, 1364, 1362, 1358, 1364, 1357, 1358, 1358, 1358, 1358, 1359, 1358, 1358, 1356, 1356, 1358, 1359, 1354, 1356, 1361, 1361, 1356, 1361, 1358, 1359, 1358, 1359, 1356, 1361, 1368, 1368, 1365, 1365, 1369, 1365, 1362, 1361, 1361, 1361, 1361, 1360, 1367, 1367, 1363, 1363, 1367, 1363, 1369, 1365, 1361, 1360, 1368, 1362, 1358, 1359, 1361, 1361, 1359, 1361, 1355, 1357, 1365, 1365, 1357, 1365, 1362, 1362, 1364, 1364, 1362, 1365, 1359, 1361, 1357, 1364, 1364, 1364, 1362, 1360, 1364, 1362, 1358, 1364, 1358, 1360, 1358, 1358, 1356, 1361, 1369, 1365, 1361, 1359, 1368, 1363, 1360, 1362, 1358, 1364, 1362, 1367, 1362, 1362, 1361, 1362, 1362, 1360, 1361, 1364, 1358, 1357, 1364, 1362, 1357, 1358, 1363, 1364, 1358, 1364, 1362, 1360, 1364, 1362, 1358, 1364, 1363, 1363, 1363, 1363, 1363, 1364, 1362, 1363, 1357, 1319, 1307, 1319, 1364, 1365, 1364, 1319, 1320, 1319, 1306, 1308, 1307, 1319, 1322, 1321, 1365, 1366, 1363, 1362, 1366, 1366, 1364, 1366, 1364, 1319, 1310, 1318, 1367, 1367, 1366, 1325, 1328, 1325, 1315, 1313, 1310, 1319, 1327, 1324, 1359, 1360, 1357, 1357, 1360, 1357, 1367, 1366, 1367, 1319, 1320, 1320, 1359, 1359, 1362, 1319, 1320, 1319, 1320, 1322, 1321, 1321, 1321, 1320, 1309, 1307, 1315, 1313, 1313, 1309, 1308, 1309, 1308, 1319, 1323, 1322, 1316, 1313, 1310, 1319, 1327, 1324, 1320, 1320, 1321, 1321, 1318, 1320, 1360, 1360, 1360, 1360, 1361, 1360, 1361, 1363, 1357, 1357, 1363, 1358, 1352, 1354, 1359, 1359, 1354, 1359, 1361, 1360, 1363, 1358, 1354, 1359, 1360, 1360, 1360, 1360, 1361, 1360, 1358, 1359, 1358, 1319, 1309, 1318, 1356, 1358, 1359, 1317, 1316, 1317, 1309, 1309, 1309, 1317, 1316, 1318, 1362, 1362, 1358, 1358, 1362, 1359, 1362, 1362, 1359, 1316, 1311, 1316, 1357, 1357, 1357, 1313, 1313, 1313, 1311, 1310, 1311, 1316, 1313, 1313, 1357, 1356, 1356, 1356, 1356, 1358, 1357, 1356, 1360, 1317, 1318, 1317, 1358, 1358, 1358, 1320, 1320, 1320, 1318, 1320, 1318, 1317, 1321, 1321, 1309, 1309, 1311, 1308, 1304, 1312, 1309, 1309, 1309, 1317, 1316, 1318, 1311, 1311, 1311, 1315, 1314, 1314, 1319, 1319, 1319, 1317, 1321, 1321, 1368, 1368, 1362, 1362, 1369, 1365, 1363, 1363, 1359, 1359, 1363, 1359, 1363, 1363, 1363, 1363, 1363, 1363, 1369, 1365, 1363, 1359, 1366, 1364, 1368, 1368, 1362, 1362, 1369, 1365, 1368, 1368, 1368, 1325, 1317, 1323, 1368, 1369, 1370, 1329, 1327, 1329, 1317, 1314, 1317, 1324, 1328, 1328, 1362, 1363, 1358, 1358, 1363, 1359, 1362, 1363, 1359, 1319, 1312, 1320, 1361, 1361, 1361, 1318, 1318, 1318, 1312, 1308, 1312, 1320, 1318, 1318, 1366, 1366, 1361, 1361, 1366, 1361, 1366, 1366, 1365, 1324, 1323, 1324, 1361, 1361, 1361, 1316, 1316, 1316, 1323, 1318, 1323, 1324, 1315, 1315, 1317, 1314, 1309, 1310, 1310, 1307, 1317, 1314, 1317, 1324, 1328, 1328, 1313, 1310, 1313, 1319, 1318, 1318, 1323, 1319, 1323, 1324, 1314, 1314, 1364, 1364, 1367, 1367, 1364, 1368, 1353, 1353, 1356, 1356, 1353, 1357, 1365, 1365, 1361, 1361, 1365, 1361, 1364, 1368, 1353, 1356, 1364, 1362, 1364, 1364, 1367, 1367, 1364, 1368, 1365, 1365, 1365, 1317, 1312, 1315, 1368, 1368, 1368, 1318, 1320, 1318, 1312, 1321, 1313, 1316, 1321, 1318, 1355, 1356, 1356, 1356, 1356, 1357, 1355, 1356, 1356, 1313, 1312, 1313, 1359, 1359, 1359, 1313, 1313, 1313, 1312, 1314, 1312, 1313, 1315, 1315, 1365, 1365, 1359, 1359, 1365, 1358, 1365, 1365, 1365, 1320, 1320, 1321, 1357, 1357, 1357, 1319, 1319, 1319, 1320, 1319, 1320, 1321, 1319, 1319, 1312, 1321, 1315, 1317, 1323, 1318, 1312, 1321, 1313, 1316, 1321, 1318, 1313, 1313, 1313, 1314, 1314, 1314, 1321, 1319, 1321, 1322, 1320, 1320, 1309, 1307, 1315, 1313, 1313, 1309, 1308, 1310, 1308, 1307, 1306, 1308, 1317, 1314, 1307, 1311, 1309, 1307, 1305, 1310, 1296, 1302, 1306, 1302, 1309, 1307, 1315, 1313, 1313, 1309, 1308, 1309, 1308, 1319, 1323, 1322, 1316, 1313, 1310, 1319, 1327, 1324, 1320, 1320, 1321, 1321, 1318, 1320, 1309, 1309, 1311, 1308, 1304, 1312, 1309, 1309, 1309, 1317, 1316, 1318, 1311, 1311, 1311, 1315, 1314, 1314, 1319, 1319, 1319, 1317, 1321, 1321, 1317, 1314, 1309, 1311, 1310, 1307, 1317, 1314, 1317, 1323, 1329, 1328, 1314, 1310, 1314, 1320, 1318, 1318, 1323, 1319, 1323, 1323, 1315, 1315, 1314, 1323, 1317, 1319, 1324, 1320, 1314, 1323, 1313, 1317, 1323, 1320, 1315, 1315, 1315, 1315, 1317, 1317, 1322, 1321, 1322, 1322, 1320, 1320, 1293, 1282, 1286, 1286, 1282, 1279, 1285, 1287, 1286, 1284, 1279, 1277, 1281, 1281, 1285, 1290, 1278, 1290, 1278, 1277, 1280, 1278, 1273, 1274, 1279, 1277, 1279, 1279, 1277, 1279, 1279, 1277, 1278, 1278, 1277, 1276, 1283, 1283, 1279, 1279, 1283, 1279, 1277, 1279, 1277, 1276, 1277, 1276, 1291, 1285, 1290, 1290, 1282, 1273, 1287, 1277, 1282, 1282, 1277, 1274, 1281, 1283, 1276, 1276, 1283, 1277, 1282, 1273, 1269, 1270, 1273, 1270, 1280, 1280, 1282, 1283, 1287, 1283, 1281, 1281, 1282, 1282, 1281, 1283, 1282, 1282, 1275, 1275, 1282, 1280, 1287, 1283, 1281, 1283, 1282, 1279, 1278, 1277, 1280, 1278, 1273, 1274, 1273, 1269, 1266, 1266, 1266, 1267, 1282, 1273, 1269, 1269, 1273, 1270, 1280, 1272, 1271, 1266, 1275, 1274, 1293, 1282, 1286, 1286, 1282, 1279, 1285, 1287, 1286, 1284, 1279, 1277, 1281, 1281, 1285, 1290, 1278, 1290, 1278, 1277, 1280, 1278, 1273, 1274, 1295, 1288, 1291, 1292, 1287, 1279, 1297, 1289, 1307, 1308, 1280, 1292, 1300, 1300, 1302, 1299, 1298, 1299, 1276, 1276, 1280, 1292, 1288, 1287, 1286, 1290, 1287, 1284, 1285, 1278, 1289, 1289, 1308, 1305, 1279, 1291, 1306, 1299, 1303, 1301, 1300, 1297, 1276, 1270, 1282, 1289, 1285, 1281, 1306, 1304, 1301, 1299, 1303, 1298, 1305, 1304, 1305, 1302, 1303, 1302, 1305, 1302, 1301, 1299, 1299, 1302, 1301, 1298, 1300, 1300, 1299, 1302, 1272, 1270, 1274, 1269, 1268, 1268, 1276, 1271, 1277, 1293, 1282, 1285, 1276, 1270, 1282, 1289, 1285, 1282, 1283, 1288, 1282, 1284, 1288, 1286, 1283, 1284, 1286, 1286, 1284, 1279, 1281, 1282, 1284, 1284, 1282, 1273, 1284, 1284, 1281, 1281, 1284, 1284, 1284, 1279, 1282, 1273, 1281, 1277, 1283, 1284, 1286, 1286, 1284, 1279, 1285, 1284, 1297, 1295, 1273, 1284, 1297, 1298, 1301, 1294, 1295, 1294, 1272, 1271, 1273, 1284, 1282, 1283, 1283, 1284, 1285, 1285, 1284, 1274, 1283, 1284, 1295, 1290, 1272, 1284, 1293, 1293, 1293, 1296, 1296, 1296, 1272, 1265, 1272, 1284, 1285, 1285, 1296, 1297, 1297, 1297, 1297, 1298, 1296, 1297, 1298, 1292, 1291, 1292, 1298, 1298, 1298, 1296, 1296, 1296, 1291, 1294, 1291, 1292, 1296, 1296, 1272, 1271, 1273, 1263, 1272, 1266, 1272, 1271, 1273, 1284, 1282, 1283, 1272, 1265, 1272, 1283, 1286, 1286, 1284, 1277, 1284, 1287, 1280, 1280, 1292, 1285, 1292, 1292, 1284, 1273, 1290, 1278, 1284, 1284, 1278, 1276, 1284, 1287, 1277, 1277, 1287, 1279, 1284, 1273, 1274, 1273, 1275, 1272, 1292, 1285, 1292, 1292, 1284, 1273, 1294, 1287, 1306, 1305, 1275, 1293, 1304, 1299, 1309, 1305, 1304, 1303, 1272, 1272, 1278, 1282, 1285, 1288, 1289, 1279, 1287, 1287, 1279, 1275, 1289, 1279, 1302, 1298, 1272, 1289, 1301, 1301, 1301, 1296, 1296, 1296, 1272, 1266, 1272, 1289, 1283, 1283, 1302, 1297, 1295, 1295, 1297, 1294, 1302, 1297, 1302, 1295, 1296, 1302, 1299, 1299, 1299, 1295, 1295, 1295, 1296, 1289, 1296, 1302, 1292, 1292, 1272, 1272, 1264, 1265, 1271, 1271, 1272, 1272, 1278, 1282, 1285, 1288, 1273, 1265, 1273, 1281, 1280, 1280, 1280, 1280, 1280, 1278, 1276, 1276, 1303, 1304, 1304, 1301, 1307, 1299, 1299, 1299, 1294, 1294, 1299, 1294, 1300, 1291, 1297, 1297, 1291, 1291, 1307, 1299, 1299, 1293, 1290, 1291, 1303, 1304, 1304, 1301, 1307, 1299, 1307, 1306, 1305, 1303, 1305, 1303, 1305, 1298, 1305, 1300, 1299, 1304, 1301, 1300, 1301, 1302, 1299, 1304, 1293, 1293, 1288, 1288, 1293, 1289, 1293, 1293, 1291, 1295, 1291, 1294, 1292, 1292, 1292, 1298, 1298, 1298, 1291, 1294, 1291, 1294, 1297, 1297, 1302, 1292, 1297, 1297, 1292, 1294, 1302, 1292, 1299, 1303, 1299, 1301, 1298, 1298, 1298, 1297, 1297, 1297, 1299, 1297, 1299, 1301, 1298, 1298, 1301, 1300, 1292, 1290, 1299, 1295, 1301, 1300, 1301, 1302, 1299, 1304, 1293, 1288, 1293, 1293, 1289, 1289, 1299, 1297, 1299, 1302, 1298, 1298, 1272, 1270, 1274, 1269, 1268, 1268, 1265, 1263, 1263, 1260, 1264, 1260, 1273, 1274, 1262, 1263, 1269, 1268, 1271, 1266, 1265, 1261, 1271, 1267, 1272, 1270, 1274, 1269, 1268, 1268, 1276, 1271, 1277, 1293, 1282, 1285, 1276, 1270, 1282, 1289, 1285, 1282, 1283, 1288, 1282, 1284, 1288, 1286, 1265, 1268, 1268, 1265, 1269, 1269, 1265, 1268, 1266, 1280, 1276, 1279, 1269, 1264, 1269, 1280, 1278, 1278, 1280, 1275, 1280, 1284, 1277, 1277, 1272, 1272, 1264, 1265, 1271, 1271, 1272, 1272, 1278, 1282, 1285, 1288, 1273, 1265, 1273, 1281, 1280, 1280, 1281, 1280, 1281, 1278, 1276, 1276, 1283, 1286, 1280, 1277, 1284, 1280, 1283, 1286, 1284, 1283, 1286, 1281, 1279, 1272, 1279, 1280, 1274, 1274, 1283, 1279, 1283, 1284, 1277, 1277]]\n"
     ]
    },
    {
     "data": {
      "image/png": "[encoded data removed]",
      "text/plain": [
       "<Figure size 640x480 with 1 Axes>"
      ]
     },
     "metadata": {},
     "output_type": "display_data"
    },
    {
     "name": "stdout",
     "output_type": "stream",
     "text": [
      "7\n",
      "42\n",
      "210\n",
      "840\n",
      "2520\n",
      "5040\n",
      "5040\n"
     ]
    }
   ],
   "source": [
    "import matplotlib.pyplot as plt\n",
    "import numpy as np\n",
    "\n",
    "mrs = [0]*7\n",
    "\n",
    "data = [[] for _ in range(len(mrs))]\n",
    "pred_source = np.load('predictions/MNIST_AlexNet_9938_source.npy')\n",
    "pred_followup = np.load('predictions/MNIST_AlexNet_9938_followup.npy',allow_pickle=True).item()\n",
    "\n",
    "def error_detection(mr):\n",
    "    return (pred_followup[mr]!=pred_source).sum()\n",
    "\n",
    "for mr in pred_followup.keys():\n",
    "    data[len(mr)-1].append(error_detection(mr))\n",
    "print(data)\n",
    "\n",
    "# 创建箱线图\n",
    "plt.boxplot(data, patch_artist=False)\n",
    "\n",
    "# 设置图表标题和轴标签\n",
    "#plt.title('Boxplot Example')\n",
    "plt.xlabel('The number of component MRs for composition')\n",
    "plt.ylabel('The number of detected errors')\n",
    "\n",
    "# 显示图表\n",
    "plt.show()\n",
    "\n",
    "for i in range(len(mrs)):\n",
    "    print(len(data[i]))"
   ]
  },
  {
   "cell_type": "code",
   "execution_count": 1,
   "metadata": {},
   "outputs": [
    {
     "ename": "ImportError",
     "evalue": "cannot import name 'venn7' from 'matplotlib_venn' (/home/husy/anaconda3/envs/cmr/lib/python3.8/site-packages/matplotlib_venn/__init__.py)",
     "output_type": "error",
     "traceback": [
      "\u001b[0;31m---------------------------------------------------------------------------\u001b[0m",
      "\u001b[0;31mImportError\u001b[0m                               Traceback (most recent call last)",
      "Cell \u001b[0;32mIn[1], line 1\u001b[0m\n\u001b[0;32m----> 1\u001b[0m \u001b[38;5;28;01mfrom\u001b[39;00m \u001b[38;5;21;01mmatplotlib_venn\u001b[39;00m \u001b[38;5;28;01mimport\u001b[39;00m venn7\n\u001b[1;32m      2\u001b[0m \u001b[38;5;28;01mimport\u001b[39;00m \u001b[38;5;21;01mmatplotlib\u001b[39;00m\u001b[38;5;21;01m.\u001b[39;00m\u001b[38;5;21;01mpyplot\u001b[39;00m \u001b[38;5;28;01mas\u001b[39;00m \u001b[38;5;21;01mplt\u001b[39;00m\n\u001b[1;32m      4\u001b[0m \u001b[38;5;66;03m# 创建7个集合的数据\u001b[39;00m\n",
      "\u001b[0;31mImportError\u001b[0m: cannot import name 'venn7' from 'matplotlib_venn' (/home/husy/anaconda3/envs/cmr/lib/python3.8/site-packages/matplotlib_venn/__init__.py)"
     ]
    }
   ],
   "source": [
    "from matplotlib_venn import venn7\n",
    "import matplotlib.pyplot as plt\n",
    "\n",
    "# 创建7个集合的数据\n",
    "sets = (\n",
    "    \"1000000\", \"0100000\", \"0010000\", \"0001000\", \"0000100\", \"0000010\", \"0000001\"\n",
    ")\n",
    "\n",
    "# 绘制韦恩图\n",
    "venn7(subsets=sets, set_labels=('A', 'B', 'C', 'D', 'E', 'F', 'G'))\n",
    "\n",
    "# 设置图表标题\n",
    "plt.title(\"7-set Venn Diagram\")\n",
    "\n",
    "# 显示图表\n",
    "plt.show()"
   ]
  },
  {
   "cell_type": "code",
   "execution_count": 74,
   "metadata": {},
   "outputs": [
    {
     "ename": "ModuleNotFoundError",
     "evalue": "No module named 'matplotlib_venn._venn7'",
     "output_type": "error",
     "traceback": [
      "\u001b[0;31m---------------------------------------------------------------------------\u001b[0m",
      "\u001b[0;31mModuleNotFoundError\u001b[0m                       Traceback (most recent call last)",
      "Cell \u001b[0;32mIn[74], line 2\u001b[0m\n\u001b[1;32m      1\u001b[0m \u001b[38;5;28;01mimport\u001b[39;00m \u001b[38;5;21;01mmatplotlib\u001b[39;00m\u001b[38;5;21;01m.\u001b[39;00m\u001b[38;5;21;01mpyplot\u001b[39;00m \u001b[38;5;28;01mas\u001b[39;00m \u001b[38;5;21;01mplt\u001b[39;00m\n\u001b[0;32m----> 2\u001b[0m \u001b[38;5;28;01mfrom\u001b[39;00m \u001b[38;5;21;01mmatplotlib_venn\u001b[39;00m\u001b[38;5;21;01m.\u001b[39;00m\u001b[38;5;21;01m_venn7\u001b[39;00m \u001b[38;5;28;01mimport\u001b[39;00m _compute_venn7_subsets\n\u001b[1;32m      3\u001b[0m \u001b[38;5;28;01mfrom\u001b[39;00m \u001b[38;5;21;01mitertools\u001b[39;00m \u001b[38;5;28;01mimport\u001b[39;00m product\n\u001b[1;32m      5\u001b[0m \u001b[38;5;28;01mdef\u001b[39;00m \u001b[38;5;21mvenn7\u001b[39m(subsets, set_labels\u001b[38;5;241m=\u001b[39m\u001b[38;5;28;01mNone\u001b[39;00m):\n",
      "\u001b[0;31mModuleNotFoundError\u001b[0m: No module named 'matplotlib_venn._venn7'"
     ]
    }
   ],
   "source": [
    "import matplotlib.pyplot as plt\n",
    "from matplotlib_venn._venn7 import _compute_venn7_subsets\n",
    "from itertools import product\n",
    "\n",
    "def venn7(subsets, set_labels=None):\n",
    "    if set_labels is None:\n",
    "        set_labels = ['A', 'B', 'C', 'D', 'E', 'F', 'G']\n",
    "\n",
    "    if len(subsets) != 7:\n",
    "        raise ValueError(\"Exactly 7 subsets are required for a Venn diagram.\")\n",
    "\n",
    "    venn_subsets = _compute_venn7_subsets(*subsets)\n",
    "    plt.figure(figsize=(8, 8))\n",
    "    venn_names = [\"\".join(str(b) for b in binary) for binary in product([0, 1], repeat=7)]\n",
    "    venn = plt.subplot()\n",
    "\n",
    "    for idx, subset in enumerate(venn_names):\n",
    "        venn.text(venn_subsets[idx][0], venn_subsets[idx][1], subset, ha='center', va='center')\n",
    "\n",
    "    venn.set_xticks([])\n",
    "    venn.set_yticks([])\n",
    "    venn.set_title('7-Set Venn Diagram')\n",
    "    venn.set_xlabel(\"\\n\".join(set_labels))\n",
    "\n",
    "    plt.show()\n",
    "\n",
    "# 7个集合的数据\n",
    "subsets = (\n",
    "    1, 1, 1, 1, 1, 1, 1,  # 1111111\n",
    "    0, 1, 1, 1, 1, 1, 1,  # 0111111\n",
    "    1, 0, 1, 1, 1, 1, 1,  # 1011111\n",
    "    # ... 这里省略了其余组合的集合数据\n",
    "    0, 0, 0, 0, 0, 0, 0   # 0000000\n",
    ")\n",
    "\n",
    "venn7(subsets)\n"
   ]
  },
  {
   "cell_type": "code",
   "execution_count": null,
   "metadata": {},
   "outputs": [],
   "source": []
  }
 ],
 "metadata": {
  "kernelspec": {
   "display_name": "cmr",
   "language": "python",
   "name": "python3"
  },
  "language_info": {
   "codemirror_mode": {
    "name": "ipython",
    "version": 3
   },
   "file_extension": ".py",
   "mimetype": "text/x-python",
   "name": "python",
   "nbconvert_exporter": "python",
   "pygments_lexer": "ipython3",
   "version": "3.8.18"
  }
 },
 "nbformat": 4,
 "nbformat_minor": 2
}
